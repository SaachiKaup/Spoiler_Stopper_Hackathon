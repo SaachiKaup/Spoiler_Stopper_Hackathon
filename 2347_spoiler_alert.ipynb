{
 "cells": [
  {
   "cell_type": "code",
   "execution_count": 1,
   "id": "cdad3073",
   "metadata": {},
   "outputs": [],
   "source": [
    "import pandas as pd\n",
    "import numpy as np\n",
    "import sklearn as sk\n",
    "import matplotlib.pyplot as plt\n",
    "import warnings\n",
    "warnings.filterwarnings('ignore')"
   ]
  },
  {
   "cell_type": "code",
   "execution_count": 2,
   "id": "f373b12b",
   "metadata": {},
   "outputs": [],
   "source": [
    "df_reviews = pd.read_json(\"IMDB_reviews.json\", lines=True)"
   ]
  },
  {
   "cell_type": "code",
   "execution_count": 3,
   "id": "57634c4a",
   "metadata": {},
   "outputs": [
    {
     "data": {
      "text/html": [
       "<div>\n",
       "<style scoped>\n",
       "    .dataframe tbody tr th:only-of-type {\n",
       "        vertical-align: middle;\n",
       "    }\n",
       "\n",
       "    .dataframe tbody tr th {\n",
       "        vertical-align: top;\n",
       "    }\n",
       "\n",
       "    .dataframe thead th {\n",
       "        text-align: right;\n",
       "    }\n",
       "</style>\n",
       "<table border=\"1\" class=\"dataframe\">\n",
       "  <thead>\n",
       "    <tr style=\"text-align: right;\">\n",
       "      <th></th>\n",
       "      <th>review_date</th>\n",
       "      <th>movie_id</th>\n",
       "      <th>user_id</th>\n",
       "      <th>is_spoiler</th>\n",
       "      <th>review_text</th>\n",
       "      <th>rating</th>\n",
       "      <th>review_summary</th>\n",
       "    </tr>\n",
       "  </thead>\n",
       "  <tbody>\n",
       "    <tr>\n",
       "      <th>0</th>\n",
       "      <td>10 February 2006</td>\n",
       "      <td>tt0111161</td>\n",
       "      <td>ur1898687</td>\n",
       "      <td>True</td>\n",
       "      <td>In its Oscar year, Shawshank Redemption (writt...</td>\n",
       "      <td>10</td>\n",
       "      <td>A classic piece of unforgettable film-making.</td>\n",
       "    </tr>\n",
       "    <tr>\n",
       "      <th>1</th>\n",
       "      <td>6 September 2000</td>\n",
       "      <td>tt0111161</td>\n",
       "      <td>ur0842118</td>\n",
       "      <td>True</td>\n",
       "      <td>The Shawshank Redemption is without a doubt on...</td>\n",
       "      <td>10</td>\n",
       "      <td>Simply amazing. The best film of the 90's.</td>\n",
       "    </tr>\n",
       "    <tr>\n",
       "      <th>2</th>\n",
       "      <td>3 August 2001</td>\n",
       "      <td>tt0111161</td>\n",
       "      <td>ur1285640</td>\n",
       "      <td>True</td>\n",
       "      <td>I believe that this film is the best story eve...</td>\n",
       "      <td>8</td>\n",
       "      <td>The best story ever told on film</td>\n",
       "    </tr>\n",
       "    <tr>\n",
       "      <th>3</th>\n",
       "      <td>1 September 2002</td>\n",
       "      <td>tt0111161</td>\n",
       "      <td>ur1003471</td>\n",
       "      <td>True</td>\n",
       "      <td>**Yes, there are SPOILERS here**This film has ...</td>\n",
       "      <td>10</td>\n",
       "      <td>Busy dying or busy living?</td>\n",
       "    </tr>\n",
       "    <tr>\n",
       "      <th>4</th>\n",
       "      <td>20 May 2004</td>\n",
       "      <td>tt0111161</td>\n",
       "      <td>ur0226855</td>\n",
       "      <td>True</td>\n",
       "      <td>At the heart of this extraordinary movie is a ...</td>\n",
       "      <td>8</td>\n",
       "      <td>Great story, wondrously told and acted</td>\n",
       "    </tr>\n",
       "  </tbody>\n",
       "</table>\n",
       "</div>"
      ],
      "text/plain": [
       "        review_date   movie_id    user_id  is_spoiler  \\\n",
       "0  10 February 2006  tt0111161  ur1898687        True   \n",
       "1  6 September 2000  tt0111161  ur0842118        True   \n",
       "2     3 August 2001  tt0111161  ur1285640        True   \n",
       "3  1 September 2002  tt0111161  ur1003471        True   \n",
       "4       20 May 2004  tt0111161  ur0226855        True   \n",
       "\n",
       "                                         review_text  rating  \\\n",
       "0  In its Oscar year, Shawshank Redemption (writt...      10   \n",
       "1  The Shawshank Redemption is without a doubt on...      10   \n",
       "2  I believe that this film is the best story eve...       8   \n",
       "3  **Yes, there are SPOILERS here**This film has ...      10   \n",
       "4  At the heart of this extraordinary movie is a ...       8   \n",
       "\n",
       "                                  review_summary  \n",
       "0  A classic piece of unforgettable film-making.  \n",
       "1     Simply amazing. The best film of the 90's.  \n",
       "2               The best story ever told on film  \n",
       "3                     Busy dying or busy living?  \n",
       "4         Great story, wondrously told and acted  "
      ]
     },
     "execution_count": 3,
     "metadata": {},
     "output_type": "execute_result"
    }
   ],
   "source": [
    "df_reviews.head()"
   ]
  },
  {
   "cell_type": "code",
   "execution_count": 72,
   "id": "7a17f2c0",
   "metadata": {},
   "outputs": [
    {
     "name": "stdout",
     "output_type": "stream",
     "text": [
      "<class 'pandas.core.frame.DataFrame'>\n",
      "RangeIndex: 573913 entries, 0 to 573912\n",
      "Data columns (total 7 columns):\n",
      " #   Column          Non-Null Count   Dtype \n",
      "---  ------          --------------   ----- \n",
      " 0   review_date     573913 non-null  object\n",
      " 1   movie_id        573913 non-null  object\n",
      " 2   user_id         573913 non-null  object\n",
      " 3   is_spoiler      573913 non-null  bool  \n",
      " 4   review_text     573913 non-null  object\n",
      " 5   rating          573913 non-null  int64 \n",
      " 6   review_summary  573913 non-null  object\n",
      "dtypes: bool(1), int64(1), object(5)\n",
      "memory usage: 26.8+ MB\n"
     ]
    },
    {
     "data": {
      "text/plain": [
       "None"
      ]
     },
     "metadata": {},
     "output_type": "display_data"
    }
   ],
   "source": [
    "display(df_reviews.info())"
   ]
  },
  {
   "cell_type": "code",
   "execution_count": 5,
   "id": "7b20fb4d",
   "metadata": {},
   "outputs": [
    {
     "data": {
      "text/plain": [
       "False    422989\n",
       "True     150924\n",
       "Name: is_spoiler, dtype: int64"
      ]
     },
     "metadata": {},
     "output_type": "display_data"
    }
   ],
   "source": [
    "display(df_reviews.is_spoiler.value_counts())"
   ]
  },
  {
   "cell_type": "code",
   "execution_count": 6,
   "id": "37ee10a4",
   "metadata": {},
   "outputs": [
    {
     "data": {
      "text/plain": [
       "tt0468569    4845\n",
       "tt0111161    4361\n",
       "tt0167260    2729\n",
       "tt0137523    2480\n",
       "tt0068646    2137\n",
       "             ... \n",
       "tt0107719      12\n",
       "tt6294822      11\n",
       "tt0104014       5\n",
       "tt0201265       4\n",
       "tt0114142       2\n",
       "Name: movie_id, Length: 1572, dtype: int64"
      ]
     },
     "metadata": {},
     "output_type": "display_data"
    }
   ],
   "source": [
    "display(df_reviews.movie_id.value_counts())"
   ]
  },
  {
   "cell_type": "code",
   "execution_count": 4,
   "id": "c1072235",
   "metadata": {},
   "outputs": [],
   "source": [
    "df_reviews.drop([\"review_date\", \"user_id\",\"rating\", \"review_summary\"], axis=\"columns\",inplace=True)"
   ]
  },
  {
   "cell_type": "code",
   "execution_count": 5,
   "id": "f6878477",
   "metadata": {},
   "outputs": [
    {
     "data": {
      "text/html": [
       "<div>\n",
       "<style scoped>\n",
       "    .dataframe tbody tr th:only-of-type {\n",
       "        vertical-align: middle;\n",
       "    }\n",
       "\n",
       "    .dataframe tbody tr th {\n",
       "        vertical-align: top;\n",
       "    }\n",
       "\n",
       "    .dataframe thead th {\n",
       "        text-align: right;\n",
       "    }\n",
       "</style>\n",
       "<table border=\"1\" class=\"dataframe\">\n",
       "  <thead>\n",
       "    <tr style=\"text-align: right;\">\n",
       "      <th></th>\n",
       "      <th>movie_id</th>\n",
       "      <th>is_spoiler</th>\n",
       "      <th>review_text</th>\n",
       "    </tr>\n",
       "  </thead>\n",
       "  <tbody>\n",
       "    <tr>\n",
       "      <th>0</th>\n",
       "      <td>tt0111161</td>\n",
       "      <td>True</td>\n",
       "      <td>In its Oscar year, Shawshank Redemption (writt...</td>\n",
       "    </tr>\n",
       "    <tr>\n",
       "      <th>1</th>\n",
       "      <td>tt0111161</td>\n",
       "      <td>True</td>\n",
       "      <td>The Shawshank Redemption is without a doubt on...</td>\n",
       "    </tr>\n",
       "    <tr>\n",
       "      <th>2</th>\n",
       "      <td>tt0111161</td>\n",
       "      <td>True</td>\n",
       "      <td>I believe that this film is the best story eve...</td>\n",
       "    </tr>\n",
       "    <tr>\n",
       "      <th>3</th>\n",
       "      <td>tt0111161</td>\n",
       "      <td>True</td>\n",
       "      <td>**Yes, there are SPOILERS here**This film has ...</td>\n",
       "    </tr>\n",
       "    <tr>\n",
       "      <th>4</th>\n",
       "      <td>tt0111161</td>\n",
       "      <td>True</td>\n",
       "      <td>At the heart of this extraordinary movie is a ...</td>\n",
       "    </tr>\n",
       "  </tbody>\n",
       "</table>\n",
       "</div>"
      ],
      "text/plain": [
       "    movie_id  is_spoiler                                        review_text\n",
       "0  tt0111161        True  In its Oscar year, Shawshank Redemption (writt...\n",
       "1  tt0111161        True  The Shawshank Redemption is without a doubt on...\n",
       "2  tt0111161        True  I believe that this film is the best story eve...\n",
       "3  tt0111161        True  **Yes, there are SPOILERS here**This film has ...\n",
       "4  tt0111161        True  At the heart of this extraordinary movie is a ..."
      ]
     },
     "execution_count": 5,
     "metadata": {},
     "output_type": "execute_result"
    }
   ],
   "source": [
    "df_reviews.head()"
   ]
  },
  {
   "cell_type": "code",
   "execution_count": 14,
   "id": "85aafad2",
   "metadata": {},
   "outputs": [],
   "source": [
    "movie_id_col = df_reviews['movie_id']"
   ]
  },
  {
   "cell_type": "code",
   "execution_count": 17,
   "id": "873b6dc3",
   "metadata": {},
   "outputs": [],
   "source": [
    "movie_reviews_df = df_reviews.loc[(movie_id_col == \"tt0468569\") | (movie_id_col == \"tt0111161\") | (movie_id_col == \"tt0167260\")]"
   ]
  },
  {
   "cell_type": "code",
   "execution_count": 91,
   "id": "29cdcde6",
   "metadata": {},
   "outputs": [],
   "source": [
    "#movie_reviews_df = df_reviews.iloc[ :25000]\n",
    "movie_reviews_df = df_reviews.sample(n = 25000)"
   ]
  },
  {
   "cell_type": "code",
   "execution_count": 19,
   "id": "4cba7e87",
   "metadata": {},
   "outputs": [],
   "source": [
    "def reset_idx(df):\n",
    "    return df.reset_index()"
   ]
  },
  {
   "cell_type": "code",
   "execution_count": 92,
   "id": "571a42c1",
   "metadata": {},
   "outputs": [],
   "source": [
    "movie_reviews_df = reset_idx(movie_reviews_df)"
   ]
  },
  {
   "cell_type": "code",
   "execution_count": 24,
   "id": "c44a1ce3",
   "metadata": {},
   "outputs": [],
   "source": [
    "def get_info(df):\n",
    "    return df.info()"
   ]
  },
  {
   "cell_type": "code",
   "execution_count": 32,
   "id": "1a5c2e35",
   "metadata": {},
   "outputs": [],
   "source": [
    "def get_head(df):\n",
    "    return df.head()"
   ]
  },
  {
   "cell_type": "code",
   "execution_count": 93,
   "id": "2b40a910",
   "metadata": {},
   "outputs": [
    {
     "name": "stdout",
     "output_type": "stream",
     "text": [
      "<class 'pandas.core.frame.DataFrame'>\n",
      "RangeIndex: 25000 entries, 0 to 24999\n",
      "Data columns (total 4 columns):\n",
      " #   Column       Non-Null Count  Dtype \n",
      "---  ------       --------------  ----- \n",
      " 0   index        25000 non-null  int64 \n",
      " 1   movie_id     25000 non-null  object\n",
      " 2   is_spoiler   25000 non-null  bool  \n",
      " 3   review_text  25000 non-null  object\n",
      "dtypes: bool(1), int64(1), object(2)\n",
      "memory usage: 610.5+ KB\n"
     ]
    }
   ],
   "source": [
    "get_info(movie_reviews_df)"
   ]
  },
  {
   "cell_type": "code",
   "execution_count": 95,
   "id": "7fc6ce67",
   "metadata": {},
   "outputs": [],
   "source": [
    "def apply_func_2_col(df, col, func):\n",
    "    df[col] = df[col].apply(func)"
   ]
  },
  {
   "cell_type": "markdown",
   "id": "c4ae9109",
   "metadata": {},
   "source": [
    "# Text Preprocessing"
   ]
  },
  {
   "cell_type": "markdown",
   "id": "e42abbee",
   "metadata": {},
   "source": [
    "## Tokenization"
   ]
  },
  {
   "cell_type": "markdown",
   "id": "49ee3e82",
   "metadata": {},
   "source": [
    "This process divides a large piece of continuous text into distinct units or tokens basically this process is often known as Tokenization."
   ]
  },
  {
   "cell_type": "code",
   "execution_count": 29,
   "id": "c7ff26c0",
   "metadata": {},
   "outputs": [],
   "source": [
    "from nltk.tokenize import word_tokenize"
   ]
  },
  {
   "cell_type": "code",
   "execution_count": 30,
   "id": "1ea6e2c8",
   "metadata": {},
   "outputs": [],
   "source": [
    "def tokenize_df(df_col):\n",
    "    return df_col.apply(word_tokenize)"
   ]
  },
  {
   "cell_type": "code",
   "execution_count": 97,
   "id": "64c59d2b",
   "metadata": {},
   "outputs": [],
   "source": [
    "movie_reviews_df['review_text'] = tokenize_df(movie_reviews_df['review_text'])"
   ]
  },
  {
   "cell_type": "code",
   "execution_count": 98,
   "id": "2a2a9ecc",
   "metadata": {},
   "outputs": [
    {
     "data": {
      "text/html": [
       "<div>\n",
       "<style scoped>\n",
       "    .dataframe tbody tr th:only-of-type {\n",
       "        vertical-align: middle;\n",
       "    }\n",
       "\n",
       "    .dataframe tbody tr th {\n",
       "        vertical-align: top;\n",
       "    }\n",
       "\n",
       "    .dataframe thead th {\n",
       "        text-align: right;\n",
       "    }\n",
       "</style>\n",
       "<table border=\"1\" class=\"dataframe\">\n",
       "  <thead>\n",
       "    <tr style=\"text-align: right;\">\n",
       "      <th></th>\n",
       "      <th>index</th>\n",
       "      <th>movie_id</th>\n",
       "      <th>is_spoiler</th>\n",
       "      <th>review_text</th>\n",
       "    </tr>\n",
       "  </thead>\n",
       "  <tbody>\n",
       "    <tr>\n",
       "      <th>0</th>\n",
       "      <td>121626</td>\n",
       "      <td>tt1250777</td>\n",
       "      <td>False</td>\n",
       "      <td>[Its, been, so, long, since, i, 've, been, to,...</td>\n",
       "    </tr>\n",
       "    <tr>\n",
       "      <th>1</th>\n",
       "      <td>452803</td>\n",
       "      <td>tt0800039</td>\n",
       "      <td>False</td>\n",
       "      <td>[Oh, well, ,, this, is, one, of, these, movies...</td>\n",
       "    </tr>\n",
       "    <tr>\n",
       "      <th>2</th>\n",
       "      <td>381817</td>\n",
       "      <td>tt0355295</td>\n",
       "      <td>False</td>\n",
       "      <td>[I, 'm, posting, mostly, because, I, read, one...</td>\n",
       "    </tr>\n",
       "    <tr>\n",
       "      <th>3</th>\n",
       "      <td>411922</td>\n",
       "      <td>tt0389860</td>\n",
       "      <td>True</td>\n",
       "      <td>[*, *, *, Spoiler, Follows, *, *, *, I, think,...</td>\n",
       "    </tr>\n",
       "    <tr>\n",
       "      <th>4</th>\n",
       "      <td>226083</td>\n",
       "      <td>tt3460252</td>\n",
       "      <td>False</td>\n",
       "      <td>[It, has, n't, been, a, long, time, since, Tar...</td>\n",
       "    </tr>\n",
       "  </tbody>\n",
       "</table>\n",
       "</div>"
      ],
      "text/plain": [
       "    index   movie_id  is_spoiler  \\\n",
       "0  121626  tt1250777       False   \n",
       "1  452803  tt0800039       False   \n",
       "2  381817  tt0355295       False   \n",
       "3  411922  tt0389860        True   \n",
       "4  226083  tt3460252       False   \n",
       "\n",
       "                                         review_text  \n",
       "0  [Its, been, so, long, since, i, 've, been, to,...  \n",
       "1  [Oh, well, ,, this, is, one, of, these, movies...  \n",
       "2  [I, 'm, posting, mostly, because, I, read, one...  \n",
       "3  [*, *, *, Spoiler, Follows, *, *, *, I, think,...  \n",
       "4  [It, has, n't, been, a, long, time, since, Tar...  "
      ]
     },
     "execution_count": 98,
     "metadata": {},
     "output_type": "execute_result"
    }
   ],
   "source": [
    "get_head(movie_reviews_df)"
   ]
  },
  {
   "cell_type": "markdown",
   "id": "f3ecb44a",
   "metadata": {},
   "source": [
    "## Stemming"
   ]
  },
  {
   "cell_type": "markdown",
   "id": "27982b63",
   "metadata": {},
   "source": [
    "This is the idea of removing the suffix of a word and reducing different forms of a word to a core root.\n",
    "eg. waiting , waited , waits -> wait"
   ]
  },
  {
   "cell_type": "code",
   "execution_count": 99,
   "id": "c738d80c",
   "metadata": {},
   "outputs": [],
   "source": [
    "from nltk.stem.snowball import SnowballStemmer\n",
    "porter = SnowballStemmer(\"english\")"
   ]
  },
  {
   "cell_type": "code",
   "execution_count": 36,
   "id": "c003abd4",
   "metadata": {},
   "outputs": [],
   "source": [
    "def stem_it(text):\n",
    "    return[porter.stem(word) for word in text]"
   ]
  },
  {
   "cell_type": "code",
   "execution_count": 100,
   "id": "0ace0026",
   "metadata": {},
   "outputs": [],
   "source": [
    "movie_reviews_df['review_text'] = movie_reviews_df['review_text'].apply(stem_it)"
   ]
  },
  {
   "cell_type": "code",
   "execution_count": 101,
   "id": "67e09c49",
   "metadata": {},
   "outputs": [
    {
     "data": {
      "text/html": [
       "<div>\n",
       "<style scoped>\n",
       "    .dataframe tbody tr th:only-of-type {\n",
       "        vertical-align: middle;\n",
       "    }\n",
       "\n",
       "    .dataframe tbody tr th {\n",
       "        vertical-align: top;\n",
       "    }\n",
       "\n",
       "    .dataframe thead th {\n",
       "        text-align: right;\n",
       "    }\n",
       "</style>\n",
       "<table border=\"1\" class=\"dataframe\">\n",
       "  <thead>\n",
       "    <tr style=\"text-align: right;\">\n",
       "      <th></th>\n",
       "      <th>index</th>\n",
       "      <th>movie_id</th>\n",
       "      <th>is_spoiler</th>\n",
       "      <th>review_text</th>\n",
       "    </tr>\n",
       "  </thead>\n",
       "  <tbody>\n",
       "    <tr>\n",
       "      <th>0</th>\n",
       "      <td>121626</td>\n",
       "      <td>tt1250777</td>\n",
       "      <td>False</td>\n",
       "      <td>[it, been, so, long, sinc, i, ve, been, to, th...</td>\n",
       "    </tr>\n",
       "    <tr>\n",
       "      <th>1</th>\n",
       "      <td>452803</td>\n",
       "      <td>tt0800039</td>\n",
       "      <td>False</td>\n",
       "      <td>[oh, well, ,, this, is, one, of, these, movi, ...</td>\n",
       "    </tr>\n",
       "    <tr>\n",
       "      <th>2</th>\n",
       "      <td>381817</td>\n",
       "      <td>tt0355295</td>\n",
       "      <td>False</td>\n",
       "      <td>[i, 'm, post, most, becaus, i, read, one, too,...</td>\n",
       "    </tr>\n",
       "    <tr>\n",
       "      <th>3</th>\n",
       "      <td>411922</td>\n",
       "      <td>tt0389860</td>\n",
       "      <td>True</td>\n",
       "      <td>[*, *, *, spoiler, follow, *, *, *, i, think, ...</td>\n",
       "    </tr>\n",
       "    <tr>\n",
       "      <th>4</th>\n",
       "      <td>226083</td>\n",
       "      <td>tt3460252</td>\n",
       "      <td>False</td>\n",
       "      <td>[it, has, n't, been, a, long, time, sinc, tara...</td>\n",
       "    </tr>\n",
       "  </tbody>\n",
       "</table>\n",
       "</div>"
      ],
      "text/plain": [
       "    index   movie_id  is_spoiler  \\\n",
       "0  121626  tt1250777       False   \n",
       "1  452803  tt0800039       False   \n",
       "2  381817  tt0355295       False   \n",
       "3  411922  tt0389860        True   \n",
       "4  226083  tt3460252       False   \n",
       "\n",
       "                                         review_text  \n",
       "0  [it, been, so, long, sinc, i, ve, been, to, th...  \n",
       "1  [oh, well, ,, this, is, one, of, these, movi, ...  \n",
       "2  [i, 'm, post, most, becaus, i, read, one, too,...  \n",
       "3  [*, *, *, spoiler, follow, *, *, *, i, think, ...  \n",
       "4  [it, has, n't, been, a, long, time, sinc, tara...  "
      ]
     },
     "execution_count": 101,
     "metadata": {},
     "output_type": "execute_result"
    }
   ],
   "source": [
    "get_head(movie_reviews_df)"
   ]
  },
  {
   "cell_type": "markdown",
   "id": "7618649c",
   "metadata": {},
   "source": [
    "## Stopword Removal"
   ]
  },
  {
   "cell_type": "markdown",
   "id": "de20d135",
   "metadata": {},
   "source": [
    "A stop word is a commonly used word (such as “the”, “a”, “an”, “in”) that a search engine has been programmed to ignore."
   ]
  },
  {
   "cell_type": "code",
   "execution_count": 42,
   "id": "7547cfbe",
   "metadata": {},
   "outputs": [],
   "source": [
    "def stop_it(text):\n",
    "    dt = [word for word in text if len(word)>2]\n",
    "    return dt"
   ]
  },
  {
   "cell_type": "code",
   "execution_count": 102,
   "id": "6e6f5a63",
   "metadata": {},
   "outputs": [],
   "source": [
    "apply_func_to_col(movie_reviews_df, 'review_text', stop_it)"
   ]
  },
  {
   "cell_type": "code",
   "execution_count": 103,
   "id": "112c41a8",
   "metadata": {},
   "outputs": [],
   "source": [
    "apply_func_to_col(movie_reviews_df, 'review_text', ' '.join)"
   ]
  },
  {
   "cell_type": "code",
   "execution_count": 104,
   "id": "cb1a79c2",
   "metadata": {},
   "outputs": [
    {
     "data": {
      "text/html": [
       "<div>\n",
       "<style scoped>\n",
       "    .dataframe tbody tr th:only-of-type {\n",
       "        vertical-align: middle;\n",
       "    }\n",
       "\n",
       "    .dataframe tbody tr th {\n",
       "        vertical-align: top;\n",
       "    }\n",
       "\n",
       "    .dataframe thead th {\n",
       "        text-align: right;\n",
       "    }\n",
       "</style>\n",
       "<table border=\"1\" class=\"dataframe\">\n",
       "  <thead>\n",
       "    <tr style=\"text-align: right;\">\n",
       "      <th></th>\n",
       "      <th>index</th>\n",
       "      <th>movie_id</th>\n",
       "      <th>is_spoiler</th>\n",
       "      <th>review_text</th>\n",
       "    </tr>\n",
       "  </thead>\n",
       "  <tbody>\n",
       "    <tr>\n",
       "      <th>0</th>\n",
       "      <td>121626</td>\n",
       "      <td>tt1250777</td>\n",
       "      <td>False</td>\n",
       "      <td>been long sinc been the theater and was just b...</td>\n",
       "    </tr>\n",
       "    <tr>\n",
       "      <th>1</th>\n",
       "      <td>452803</td>\n",
       "      <td>tt0800039</td>\n",
       "      <td>False</td>\n",
       "      <td>well this one these movi you watch and when fi...</td>\n",
       "    </tr>\n",
       "    <tr>\n",
       "      <th>2</th>\n",
       "      <td>381817</td>\n",
       "      <td>tt0355295</td>\n",
       "      <td>False</td>\n",
       "      <td>post most becaus read one too mani review proc...</td>\n",
       "    </tr>\n",
       "    <tr>\n",
       "      <th>3</th>\n",
       "      <td>411922</td>\n",
       "      <td>tt0389860</td>\n",
       "      <td>True</td>\n",
       "      <td>spoiler follow think that the scene outsid the...</td>\n",
       "    </tr>\n",
       "    <tr>\n",
       "      <th>4</th>\n",
       "      <td>226083</td>\n",
       "      <td>tt3460252</td>\n",
       "      <td>False</td>\n",
       "      <td>has n't been long time sinc tarantino first tr...</td>\n",
       "    </tr>\n",
       "  </tbody>\n",
       "</table>\n",
       "</div>"
      ],
      "text/plain": [
       "    index   movie_id  is_spoiler  \\\n",
       "0  121626  tt1250777       False   \n",
       "1  452803  tt0800039       False   \n",
       "2  381817  tt0355295       False   \n",
       "3  411922  tt0389860        True   \n",
       "4  226083  tt3460252       False   \n",
       "\n",
       "                                         review_text  \n",
       "0  been long sinc been the theater and was just b...  \n",
       "1  well this one these movi you watch and when fi...  \n",
       "2  post most becaus read one too mani review proc...  \n",
       "3  spoiler follow think that the scene outsid the...  \n",
       "4  has n't been long time sinc tarantino first tr...  "
      ]
     },
     "execution_count": 104,
     "metadata": {},
     "output_type": "execute_result"
    }
   ],
   "source": [
    "get_head(movie_reviews_df)"
   ]
  },
  {
   "cell_type": "markdown",
   "id": "b771d615",
   "metadata": {},
   "source": [
    "# Splitting of Data"
   ]
  },
  {
   "cell_type": "code",
   "execution_count": 105,
   "id": "988eef8c",
   "metadata": {},
   "outputs": [],
   "source": [
    "from sklearn.model_selection import train_test_split\n"
   ]
  },
  {
   "cell_type": "code",
   "execution_count": 106,
   "id": "37d3d721",
   "metadata": {},
   "outputs": [],
   "source": [
    "def get_train_test(df):\n",
    "    X_train, X_test, y_train, y_test = train_test_split(df['review_text'], df['is_spoiler'], test_size=0.25)\n",
    "    display(\"X_train\", X_train.head())\n",
    "    print('\\n')\n",
    "    display(\"Y_train\", y_train.head())\n",
    "    return X_train, X_test, y_train, y_test"
   ]
  },
  {
   "cell_type": "code",
   "execution_count": 107,
   "id": "d1d4972a",
   "metadata": {},
   "outputs": [
    {
     "data": {
      "text/plain": [
       "'X_train'"
      ]
     },
     "metadata": {},
     "output_type": "display_data"
    },
    {
     "data": {
      "text/plain": [
       "5198     when first saw the trailer for superbad though...\n",
       "21211    this the movi that pit second-r prize fighter ...\n",
       "23144    horror can make scare and some n't conjur veri...\n",
       "15219    kill mock bird worth seen and read cours veri ...\n",
       "14425    probabl favorit jack black movi date take the ...\n",
       "Name: review_text, dtype: object"
      ]
     },
     "metadata": {},
     "output_type": "display_data"
    },
    {
     "name": "stdout",
     "output_type": "stream",
     "text": [
      "\n",
      "\n"
     ]
    },
    {
     "data": {
      "text/plain": [
       "'Y_train'"
      ]
     },
     "metadata": {},
     "output_type": "display_data"
    },
    {
     "data": {
      "text/plain": [
       "5198      True\n",
       "21211     True\n",
       "23144    False\n",
       "15219    False\n",
       "14425     True\n",
       "Name: is_spoiler, dtype: bool"
      ]
     },
     "metadata": {},
     "output_type": "display_data"
    }
   ],
   "source": [
    "X_train, X_test, y_train, y_test = get_train_test(movie_reviews_df)"
   ]
  },
  {
   "cell_type": "markdown",
   "id": "c704aab3",
   "metadata": {},
   "source": [
    "# Vectorization\n",
    "The Vectorization is a technique used to convert textual data to numerical format.\n",
    "\n",
    "Using Vectorization, a matrix is created where each column represents a feature and each row represents an individual review"
   ]
  },
  {
   "cell_type": "code",
   "execution_count": 78,
   "id": "ee609ed1",
   "metadata": {},
   "outputs": [],
   "source": [
    "from sklearn.feature_extraction.text import TfidfVectorizer\n"
   ]
  },
  {
   "cell_type": "code",
   "execution_count": 108,
   "id": "24925ce1",
   "metadata": {},
   "outputs": [],
   "source": [
    "def get_tfidf():\n",
    "    return TfidfVectorizer(max_df=0.75, min_df = 0.01, sublinear_tf = True,\n",
    "                             use_idf = True)"
   ]
  },
  {
   "cell_type": "code",
   "execution_count": 109,
   "id": "9cf598ac",
   "metadata": {},
   "outputs": [],
   "source": [
    "def get_vectors(my_tfidf, train_var, test_var):\n",
    "    tfidf_train = my_tfidf.fit_transform(train_var)\n",
    "    tfidf_test = my_tfidf.transform(test_var)\n",
    "    return tfidf_train, tfidf_test\n",
    "    "
   ]
  },
  {
   "cell_type": "code",
   "execution_count": 110,
   "id": "1e179b0a",
   "metadata": {},
   "outputs": [],
   "source": [
    "my_tfidf = get_tfidf()"
   ]
  },
  {
   "cell_type": "code",
   "execution_count": 111,
   "id": "a66d07fe",
   "metadata": {},
   "outputs": [],
   "source": [
    "tfidf_train, tfidf_test = get_vectors(my_tfidf, X_train, X_test)"
   ]
  },
  {
   "cell_type": "code",
   "execution_count": 112,
   "id": "88aadab2",
   "metadata": {},
   "outputs": [
    {
     "name": "stdout",
     "output_type": "stream",
     "text": [
      "(18750, 1768) (6250, 1768) (18750,) (6250,)\n"
     ]
    }
   ],
   "source": [
    "print( tfidf_train.shape, tfidf_test.shape, y_train.shape, y_test.shape)"
   ]
  },
  {
   "cell_type": "code",
   "execution_count": null,
   "id": "a798a5eb",
   "metadata": {},
   "outputs": [],
   "source": [
    "#SVM method"
   ]
  },
  {
   "cell_type": "code",
   "execution_count": 113,
   "id": "16c0a1c7",
   "metadata": {},
   "outputs": [],
   "source": [
    "from sklearn import svm\n",
    "from sklearn.metrics import classification_report"
   ]
  },
  {
   "cell_type": "code",
   "execution_count": 114,
   "id": "81655fdc",
   "metadata": {},
   "outputs": [],
   "source": [
    "classifier_linear = svm.SVC(kernel='linear')"
   ]
  },
  {
   "cell_type": "code",
   "execution_count": 118,
   "id": "1126000e",
   "metadata": {},
   "outputs": [
    {
     "data": {
      "text/plain": [
       "SVC(kernel='linear')"
      ]
     },
     "execution_count": 118,
     "metadata": {},
     "output_type": "execute_result"
    }
   ],
   "source": [
    "classifier_linear.fit(tfidf_train, y_train)"
   ]
  },
  {
   "cell_type": "code",
   "execution_count": 119,
   "id": "3465c741",
   "metadata": {},
   "outputs": [],
   "source": [
    "prediction_linear = classifier_linear.predict(tfidf_test)"
   ]
  },
  {
   "cell_type": "code",
   "execution_count": 117,
   "id": "8492ecd7",
   "metadata": {},
   "outputs": [
    {
     "data": {
      "text/plain": [
       "array([False,  True, False, ...,  True, False, False])"
      ]
     },
     "execution_count": 117,
     "metadata": {},
     "output_type": "execute_result"
    }
   ],
   "source": [
    "prediction_linear"
   ]
  },
  {
   "cell_type": "code",
   "execution_count": 120,
   "id": "ad196d2c",
   "metadata": {},
   "outputs": [
    {
     "data": {
      "text/plain": [
       "{'False': {'precision': 0.7763908701854494,\n",
       "  'recall': 0.9537787513691128,\n",
       "  'f1-score': 0.8559913496510372,\n",
       "  'support': 4565},\n",
       " 'True': {'precision': 0.6713395638629284,\n",
       "  'recall': 0.255786350148368,\n",
       "  'f1-score': 0.37043403523850454,\n",
       "  'support': 1685},\n",
       " 'accuracy': 0.7656,\n",
       " 'macro avg': {'precision': 0.7238652170241888,\n",
       "  'recall': 0.6047825507587404,\n",
       "  'f1-score': 0.6132126924447708,\n",
       "  'support': 6250},\n",
       " 'weighted avg': {'precision': 0.7480690380008977,\n",
       "  'recall': 0.7656,\n",
       "  'f1-score': 0.7250850976854184,\n",
       "  'support': 6250}}"
      ]
     },
     "execution_count": 120,
     "metadata": {},
     "output_type": "execute_result"
    }
   ],
   "source": [
    "report = classification_report(y_test, prediction_linear, output_dict=True)\n",
    "report"
   ]
  },
  {
   "cell_type": "markdown",
   "id": "b8aff026",
   "metadata": {},
   "source": [
    "# Logistic Regression"
   ]
  },
  {
   "cell_type": "code",
   "execution_count": 121,
   "id": "e027d6e9",
   "metadata": {},
   "outputs": [],
   "source": [
    "from sklearn.linear_model import LogisticRegression\n",
    "from sklearn.metrics import accuracy_score"
   ]
  },
  {
   "cell_type": "code",
   "execution_count": 122,
   "id": "4c3812a8",
   "metadata": {},
   "outputs": [
    {
     "name": "stdout",
     "output_type": "stream",
     "text": [
      "76.416 %\n"
     ]
    }
   ],
   "source": [
    "model_1 = LogisticRegression(max_iter = 900, solver = 'lbfgs')\n",
    "model_1.fit(tfidf_train, y_train)\n",
    "pred_1 = model_1.predict(tfidf_test)\n",
    "cr1 = accuracy_score(y_test, pred_1)\n",
    "print(cr1*100,\"%\")"
   ]
  },
  {
   "cell_type": "markdown",
   "id": "8f32b2ac",
   "metadata": {},
   "source": [
    "# Passive Agressive Classifier\n",
    "Passive: If the prediction is correct, keep the model and do not make any changes. i.e., the data in the example is not enough to cause any changes in the model.\n",
    "\n",
    "Aggressive: If the prediction is incorrect, make changes to the model. i.e., some change to the model may correct it."
   ]
  },
  {
   "cell_type": "code",
   "execution_count": 124,
   "id": "0912f8ac",
   "metadata": {},
   "outputs": [
    {
     "data": {
      "text/plain": [
       "PassiveAggressiveClassifier(max_iter=50)"
      ]
     },
     "execution_count": 124,
     "metadata": {},
     "output_type": "execute_result"
    }
   ],
   "source": [
    "from sklearn.linear_model import PassiveAggressiveClassifier\n",
    "\n",
    "model = PassiveAggressiveClassifier(max_iter=50)\n",
    "model.fit(tfidf_train, y_train)"
   ]
  },
  {
   "cell_type": "code",
   "execution_count": 125,
   "id": "8e6ad00c",
   "metadata": {},
   "outputs": [
    {
     "name": "stdout",
     "output_type": "stream",
     "text": [
      "The Accuracy of the prediction is :  75.104\n"
     ]
    }
   ],
   "source": [
    "y_pred = model.predict(tfidf_test)\n",
    "acc_score = accuracy_score(y_test, y_pred)\n",
    "print(\"The Accuracy of the prediction is : \", acc_score*100)"
   ]
  },
  {
   "cell_type": "code",
   "execution_count": null,
   "id": "4e0f656e",
   "metadata": {},
   "outputs": [],
   "source": []
  }
 ],
 "metadata": {
  "kernelspec": {
   "display_name": "Python 3 (ipykernel)",
   "language": "python",
   "name": "python3"
  },
  "language_info": {
   "codemirror_mode": {
    "name": "ipython",
    "version": 3
   },
   "file_extension": ".py",
   "mimetype": "text/x-python",
   "name": "python",
   "nbconvert_exporter": "python",
   "pygments_lexer": "ipython3",
   "version": "3.7.9"
  }
 },
 "nbformat": 4,
 "nbformat_minor": 5
}
