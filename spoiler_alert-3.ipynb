{
 "cells": [
  {
   "cell_type": "code",
   "execution_count": 70,
   "id": "cdad3073",
   "metadata": {},
   "outputs": [],
   "source": [
    "import pandas as pd\n",
    "import numpy as np\n",
    "import sklearn as sk\n",
    "import matplotlib.pyplot as plt\n",
    "import warnings\n",
    "warnings.filterwarnings('ignore')"
   ]
  },
  {
   "cell_type": "code",
   "execution_count": 29,
   "id": "f373b12b",
   "metadata": {},
   "outputs": [],
   "source": [
    "df_reviews = pd.read_json(\"IMDB_reviews.json\", lines=True)"
   ]
  },
  {
   "cell_type": "code",
   "execution_count": 30,
   "id": "57634c4a",
   "metadata": {},
   "outputs": [
    {
     "data": {
      "text/html": [
       "<div>\n",
       "<style scoped>\n",
       "    .dataframe tbody tr th:only-of-type {\n",
       "        vertical-align: middle;\n",
       "    }\n",
       "\n",
       "    .dataframe tbody tr th {\n",
       "        vertical-align: top;\n",
       "    }\n",
       "\n",
       "    .dataframe thead th {\n",
       "        text-align: right;\n",
       "    }\n",
       "</style>\n",
       "<table border=\"1\" class=\"dataframe\">\n",
       "  <thead>\n",
       "    <tr style=\"text-align: right;\">\n",
       "      <th></th>\n",
       "      <th>review_date</th>\n",
       "      <th>movie_id</th>\n",
       "      <th>user_id</th>\n",
       "      <th>is_spoiler</th>\n",
       "      <th>review_text</th>\n",
       "      <th>rating</th>\n",
       "      <th>review_summary</th>\n",
       "    </tr>\n",
       "  </thead>\n",
       "  <tbody>\n",
       "    <tr>\n",
       "      <th>0</th>\n",
       "      <td>10 February 2006</td>\n",
       "      <td>tt0111161</td>\n",
       "      <td>ur1898687</td>\n",
       "      <td>True</td>\n",
       "      <td>In its Oscar year, Shawshank Redemption (writt...</td>\n",
       "      <td>10</td>\n",
       "      <td>A classic piece of unforgettable film-making.</td>\n",
       "    </tr>\n",
       "    <tr>\n",
       "      <th>1</th>\n",
       "      <td>6 September 2000</td>\n",
       "      <td>tt0111161</td>\n",
       "      <td>ur0842118</td>\n",
       "      <td>True</td>\n",
       "      <td>The Shawshank Redemption is without a doubt on...</td>\n",
       "      <td>10</td>\n",
       "      <td>Simply amazing. The best film of the 90's.</td>\n",
       "    </tr>\n",
       "    <tr>\n",
       "      <th>2</th>\n",
       "      <td>3 August 2001</td>\n",
       "      <td>tt0111161</td>\n",
       "      <td>ur1285640</td>\n",
       "      <td>True</td>\n",
       "      <td>I believe that this film is the best story eve...</td>\n",
       "      <td>8</td>\n",
       "      <td>The best story ever told on film</td>\n",
       "    </tr>\n",
       "    <tr>\n",
       "      <th>3</th>\n",
       "      <td>1 September 2002</td>\n",
       "      <td>tt0111161</td>\n",
       "      <td>ur1003471</td>\n",
       "      <td>True</td>\n",
       "      <td>**Yes, there are SPOILERS here**This film has ...</td>\n",
       "      <td>10</td>\n",
       "      <td>Busy dying or busy living?</td>\n",
       "    </tr>\n",
       "    <tr>\n",
       "      <th>4</th>\n",
       "      <td>20 May 2004</td>\n",
       "      <td>tt0111161</td>\n",
       "      <td>ur0226855</td>\n",
       "      <td>True</td>\n",
       "      <td>At the heart of this extraordinary movie is a ...</td>\n",
       "      <td>8</td>\n",
       "      <td>Great story, wondrously told and acted</td>\n",
       "    </tr>\n",
       "  </tbody>\n",
       "</table>\n",
       "</div>"
      ],
      "text/plain": [
       "        review_date   movie_id    user_id  is_spoiler  \\\n",
       "0  10 February 2006  tt0111161  ur1898687        True   \n",
       "1  6 September 2000  tt0111161  ur0842118        True   \n",
       "2     3 August 2001  tt0111161  ur1285640        True   \n",
       "3  1 September 2002  tt0111161  ur1003471        True   \n",
       "4       20 May 2004  tt0111161  ur0226855        True   \n",
       "\n",
       "                                         review_text  rating  \\\n",
       "0  In its Oscar year, Shawshank Redemption (writt...      10   \n",
       "1  The Shawshank Redemption is without a doubt on...      10   \n",
       "2  I believe that this film is the best story eve...       8   \n",
       "3  **Yes, there are SPOILERS here**This film has ...      10   \n",
       "4  At the heart of this extraordinary movie is a ...       8   \n",
       "\n",
       "                                  review_summary  \n",
       "0  A classic piece of unforgettable film-making.  \n",
       "1     Simply amazing. The best film of the 90's.  \n",
       "2               The best story ever told on film  \n",
       "3                     Busy dying or busy living?  \n",
       "4         Great story, wondrously told and acted  "
      ]
     },
     "execution_count": 30,
     "metadata": {},
     "output_type": "execute_result"
    }
   ],
   "source": [
    "df_reviews.head()"
   ]
  },
  {
   "cell_type": "code",
   "execution_count": 31,
   "id": "7a17f2c0",
   "metadata": {},
   "outputs": [
    {
     "name": "stdout",
     "output_type": "stream",
     "text": [
      "<class 'pandas.core.frame.DataFrame'>\n",
      "RangeIndex: 573913 entries, 0 to 573912\n",
      "Data columns (total 7 columns):\n",
      " #   Column          Non-Null Count   Dtype \n",
      "---  ------          --------------   ----- \n",
      " 0   review_date     573913 non-null  object\n",
      " 1   movie_id        573913 non-null  object\n",
      " 2   user_id         573913 non-null  object\n",
      " 3   is_spoiler      573913 non-null  bool  \n",
      " 4   review_text     573913 non-null  object\n",
      " 5   rating          573913 non-null  int64 \n",
      " 6   review_summary  573913 non-null  object\n",
      "dtypes: bool(1), int64(1), object(5)\n",
      "memory usage: 26.8+ MB\n"
     ]
    },
    {
     "data": {
      "text/plain": [
       "None"
      ]
     },
     "metadata": {},
     "output_type": "display_data"
    }
   ],
   "source": [
    "display(df_reviews.info())"
   ]
  },
  {
   "cell_type": "code",
   "execution_count": 32,
   "id": "7b20fb4d",
   "metadata": {},
   "outputs": [
    {
     "data": {
      "text/plain": [
       "False    422989\n",
       "True     150924\n",
       "Name: is_spoiler, dtype: int64"
      ]
     },
     "metadata": {},
     "output_type": "display_data"
    }
   ],
   "source": [
    "display(df_reviews.is_spoiler.value_counts())"
   ]
  },
  {
   "cell_type": "code",
   "execution_count": 33,
   "id": "37ee10a4",
   "metadata": {},
   "outputs": [
    {
     "data": {
      "text/plain": [
       "tt0468569    4845\n",
       "tt0111161    4361\n",
       "tt0167260    2729\n",
       "tt0137523    2480\n",
       "tt0068646    2137\n",
       "             ... \n",
       "tt0107719      12\n",
       "tt6294822      11\n",
       "tt0104014       5\n",
       "tt0201265       4\n",
       "tt0114142       2\n",
       "Name: movie_id, Length: 1572, dtype: int64"
      ]
     },
     "metadata": {},
     "output_type": "display_data"
    }
   ],
   "source": [
    "display(df_reviews.movie_id.value_counts())"
   ]
  },
  {
   "cell_type": "code",
   "execution_count": 34,
   "id": "c1072235",
   "metadata": {},
   "outputs": [],
   "source": [
    "df_reviews.drop([\"review_date\" , \"user_id\",\"rating\", \"review_summary\"], axis=\"columns\",inplace=True)"
   ]
  },
  {
   "cell_type": "code",
   "execution_count": 35,
   "id": "f6878477",
   "metadata": {},
   "outputs": [
    {
     "data": {
      "text/html": [
       "<div>\n",
       "<style scoped>\n",
       "    .dataframe tbody tr th:only-of-type {\n",
       "        vertical-align: middle;\n",
       "    }\n",
       "\n",
       "    .dataframe tbody tr th {\n",
       "        vertical-align: top;\n",
       "    }\n",
       "\n",
       "    .dataframe thead th {\n",
       "        text-align: right;\n",
       "    }\n",
       "</style>\n",
       "<table border=\"1\" class=\"dataframe\">\n",
       "  <thead>\n",
       "    <tr style=\"text-align: right;\">\n",
       "      <th></th>\n",
       "      <th>movie_id</th>\n",
       "      <th>is_spoiler</th>\n",
       "      <th>review_text</th>\n",
       "    </tr>\n",
       "  </thead>\n",
       "  <tbody>\n",
       "    <tr>\n",
       "      <th>0</th>\n",
       "      <td>tt0111161</td>\n",
       "      <td>True</td>\n",
       "      <td>In its Oscar year, Shawshank Redemption (writt...</td>\n",
       "    </tr>\n",
       "    <tr>\n",
       "      <th>1</th>\n",
       "      <td>tt0111161</td>\n",
       "      <td>True</td>\n",
       "      <td>The Shawshank Redemption is without a doubt on...</td>\n",
       "    </tr>\n",
       "    <tr>\n",
       "      <th>2</th>\n",
       "      <td>tt0111161</td>\n",
       "      <td>True</td>\n",
       "      <td>I believe that this film is the best story eve...</td>\n",
       "    </tr>\n",
       "    <tr>\n",
       "      <th>3</th>\n",
       "      <td>tt0111161</td>\n",
       "      <td>True</td>\n",
       "      <td>**Yes, there are SPOILERS here**This film has ...</td>\n",
       "    </tr>\n",
       "    <tr>\n",
       "      <th>4</th>\n",
       "      <td>tt0111161</td>\n",
       "      <td>True</td>\n",
       "      <td>At the heart of this extraordinary movie is a ...</td>\n",
       "    </tr>\n",
       "  </tbody>\n",
       "</table>\n",
       "</div>"
      ],
      "text/plain": [
       "    movie_id  is_spoiler                                        review_text\n",
       "0  tt0111161        True  In its Oscar year, Shawshank Redemption (writt...\n",
       "1  tt0111161        True  The Shawshank Redemption is without a doubt on...\n",
       "2  tt0111161        True  I believe that this film is the best story eve...\n",
       "3  tt0111161        True  **Yes, there are SPOILERS here**This film has ...\n",
       "4  tt0111161        True  At the heart of this extraordinary movie is a ..."
      ]
     },
     "execution_count": 35,
     "metadata": {},
     "output_type": "execute_result"
    }
   ],
   "source": [
    "df_reviews.head()"
   ]
  },
  {
   "cell_type": "code",
   "execution_count": 36,
   "id": "5ea64121",
   "metadata": {},
   "outputs": [],
   "source": [
    "movie1 = pd.DataFrame()"
   ]
  },
  {
   "cell_type": "code",
   "execution_count": 37,
   "id": "873b6dc3",
   "metadata": {},
   "outputs": [],
   "source": [
    "movie1 = df_reviews.loc[df_reviews['movie_id'] == \"tt0468569\"]"
   ]
  },
  {
   "cell_type": "code",
   "execution_count": 38,
   "id": "90509139",
   "metadata": {},
   "outputs": [
    {
     "data": {
      "text/html": [
       "<div>\n",
       "<style scoped>\n",
       "    .dataframe tbody tr th:only-of-type {\n",
       "        vertical-align: middle;\n",
       "    }\n",
       "\n",
       "    .dataframe tbody tr th {\n",
       "        vertical-align: top;\n",
       "    }\n",
       "\n",
       "    .dataframe thead th {\n",
       "        text-align: right;\n",
       "    }\n",
       "</style>\n",
       "<table border=\"1\" class=\"dataframe\">\n",
       "  <thead>\n",
       "    <tr style=\"text-align: right;\">\n",
       "      <th></th>\n",
       "      <th>index</th>\n",
       "      <th>movie_id</th>\n",
       "      <th>is_spoiler</th>\n",
       "      <th>review_text</th>\n",
       "    </tr>\n",
       "  </thead>\n",
       "  <tbody>\n",
       "    <tr>\n",
       "      <th>0</th>\n",
       "      <td>7068</td>\n",
       "      <td>tt0468569</td>\n",
       "      <td>True</td>\n",
       "      <td>I got to see The Dark Knight on Wednesday nigh...</td>\n",
       "    </tr>\n",
       "    <tr>\n",
       "      <th>1</th>\n",
       "      <td>7069</td>\n",
       "      <td>tt0468569</td>\n",
       "      <td>True</td>\n",
       "      <td>I must say I was excited for this movie since ...</td>\n",
       "    </tr>\n",
       "    <tr>\n",
       "      <th>2</th>\n",
       "      <td>7070</td>\n",
       "      <td>tt0468569</td>\n",
       "      <td>True</td>\n",
       "      <td>I thought Batman Begins was a very well concei...</td>\n",
       "    </tr>\n",
       "    <tr>\n",
       "      <th>3</th>\n",
       "      <td>7071</td>\n",
       "      <td>tt0468569</td>\n",
       "      <td>True</td>\n",
       "      <td>I think the big question...or the question eve...</td>\n",
       "    </tr>\n",
       "    <tr>\n",
       "      <th>4</th>\n",
       "      <td>7072</td>\n",
       "      <td>tt0468569</td>\n",
       "      <td>True</td>\n",
       "      <td>(Synopsis) Bruce Wayne/Batman (Christian Bale)...</td>\n",
       "    </tr>\n",
       "  </tbody>\n",
       "</table>\n",
       "</div>"
      ],
      "text/plain": [
       "   index   movie_id  is_spoiler  \\\n",
       "0   7068  tt0468569        True   \n",
       "1   7069  tt0468569        True   \n",
       "2   7070  tt0468569        True   \n",
       "3   7071  tt0468569        True   \n",
       "4   7072  tt0468569        True   \n",
       "\n",
       "                                         review_text  \n",
       "0  I got to see The Dark Knight on Wednesday nigh...  \n",
       "1  I must say I was excited for this movie since ...  \n",
       "2  I thought Batman Begins was a very well concei...  \n",
       "3  I think the big question...or the question eve...  \n",
       "4  (Synopsis) Bruce Wayne/Batman (Christian Bale)...  "
      ]
     },
     "execution_count": 38,
     "metadata": {},
     "output_type": "execute_result"
    }
   ],
   "source": [
    "movie1.head().reset_index()"
   ]
  },
  {
   "cell_type": "markdown",
   "id": "c4ae9109",
   "metadata": {},
   "source": [
    "# Text Preprocessing"
   ]
  },
  {
   "cell_type": "markdown",
   "id": "e42abbee",
   "metadata": {},
   "source": [
    "## Tokenization"
   ]
  },
  {
   "cell_type": "markdown",
   "id": "49ee3e82",
   "metadata": {},
   "source": [
    "This process divides a large piece of continuous text into distinct units or tokens basically this process is often known as Tokenization."
   ]
  },
  {
   "cell_type": "code",
   "execution_count": 39,
   "id": "c7ff26c0",
   "metadata": {},
   "outputs": [],
   "source": [
    "from nltk.tokenize import word_tokenize"
   ]
  },
  {
   "cell_type": "code",
   "execution_count": 40,
   "id": "53071812",
   "metadata": {},
   "outputs": [
    {
     "name": "stderr",
     "output_type": "stream",
     "text": [
      "<ipython-input-40-8a2c8d6d8184>:1: SettingWithCopyWarning: \n",
      "A value is trying to be set on a copy of a slice from a DataFrame.\n",
      "Try using .loc[row_indexer,col_indexer] = value instead\n",
      "\n",
      "See the caveats in the documentation: https://pandas.pydata.org/pandas-docs/stable/user_guide/indexing.html#returning-a-view-versus-a-copy\n",
      "  movie1['review_text'] = movie1['review_text'].apply(word_tokenize)\n"
     ]
    }
   ],
   "source": [
    "movie1['review_text'] = movie1['review_text'].apply(word_tokenize)"
   ]
  },
  {
   "cell_type": "code",
   "execution_count": 41,
   "id": "dab541cc",
   "metadata": {},
   "outputs": [
    {
     "name": "stdout",
     "output_type": "stream",
     "text": [
      "    movie_id  is_spoiler                                        review_text\n",
      "0  tt0111161        True  In its Oscar year, Shawshank Redemption (writt...\n",
      "1  tt0111161        True  The Shawshank Redemption is without a doubt on...\n",
      "2  tt0111161        True  I believe that this film is the best story eve...\n",
      "3  tt0111161        True  **Yes, there are SPOILERS here**This film has ...\n",
      "4  tt0111161        True  At the heart of this extraordinary movie is a ...\n"
     ]
    }
   ],
   "source": [
    "print(df_reviews.head())"
   ]
  },
  {
   "cell_type": "markdown",
   "id": "f3ecb44a",
   "metadata": {},
   "source": [
    "## Stemming"
   ]
  },
  {
   "cell_type": "markdown",
   "id": "27982b63",
   "metadata": {},
   "source": [
    "This is the idea of removing the suffix of a word and reducing different forms of a word to a core root.\n",
    "eg. waiting , waited , waits -> wait"
   ]
  },
  {
   "cell_type": "code",
   "execution_count": 42,
   "id": "c738d80c",
   "metadata": {},
   "outputs": [],
   "source": [
    "from nltk.stem.snowball import SnowballStemmer\n",
    "porter = SnowballStemmer(\"english\")"
   ]
  },
  {
   "cell_type": "code",
   "execution_count": 43,
   "id": "c003abd4",
   "metadata": {},
   "outputs": [],
   "source": [
    "def stem_it(text):\n",
    "    return[porter.stem(word) for word in text]"
   ]
  },
  {
   "cell_type": "code",
   "execution_count": 46,
   "id": "9b69da00",
   "metadata": {},
   "outputs": [
    {
     "name": "stderr",
     "output_type": "stream",
     "text": [
      "<ipython-input-46-a73ab4de933e>:1: SettingWithCopyWarning: \n",
      "A value is trying to be set on a copy of a slice from a DataFrame.\n",
      "Try using .loc[row_indexer,col_indexer] = value instead\n",
      "\n",
      "See the caveats in the documentation: https://pandas.pydata.org/pandas-docs/stable/user_guide/indexing.html#returning-a-view-versus-a-copy\n",
      "  movie1['review_text'] = movie1['review_text'].apply(stem_it)\n"
     ]
    }
   ],
   "source": [
    "movie1['review_text'] = movie1['review_text'].apply(stem_it)"
   ]
  },
  {
   "cell_type": "code",
   "execution_count": 51,
   "id": "b2ec05d2",
   "metadata": {},
   "outputs": [],
   "source": [
    "movie1 = movie1.reset_index()"
   ]
  },
  {
   "cell_type": "code",
   "execution_count": 52,
   "id": "435f31b7",
   "metadata": {},
   "outputs": [
    {
     "data": {
      "text/html": [
       "<div>\n",
       "<style scoped>\n",
       "    .dataframe tbody tr th:only-of-type {\n",
       "        vertical-align: middle;\n",
       "    }\n",
       "\n",
       "    .dataframe tbody tr th {\n",
       "        vertical-align: top;\n",
       "    }\n",
       "\n",
       "    .dataframe thead th {\n",
       "        text-align: right;\n",
       "    }\n",
       "</style>\n",
       "<table border=\"1\" class=\"dataframe\">\n",
       "  <thead>\n",
       "    <tr style=\"text-align: right;\">\n",
       "      <th></th>\n",
       "      <th>level_0</th>\n",
       "      <th>index</th>\n",
       "      <th>movie_id</th>\n",
       "      <th>is_spoiler</th>\n",
       "      <th>review_text</th>\n",
       "    </tr>\n",
       "  </thead>\n",
       "  <tbody>\n",
       "    <tr>\n",
       "      <th>0</th>\n",
       "      <td>0</td>\n",
       "      <td>7068</td>\n",
       "      <td>tt0468569</td>\n",
       "      <td>True</td>\n",
       "      <td>[i, got, to, see, the, dark, knight, on, wedne...</td>\n",
       "    </tr>\n",
       "    <tr>\n",
       "      <th>1</th>\n",
       "      <td>1</td>\n",
       "      <td>7069</td>\n",
       "      <td>tt0468569</td>\n",
       "      <td>True</td>\n",
       "      <td>[i, must, say, i, was, excit, for, this, movi,...</td>\n",
       "    </tr>\n",
       "    <tr>\n",
       "      <th>2</th>\n",
       "      <td>2</td>\n",
       "      <td>7070</td>\n",
       "      <td>tt0468569</td>\n",
       "      <td>True</td>\n",
       "      <td>[i, thought, batman, begin, was, a, veri, well...</td>\n",
       "    </tr>\n",
       "    <tr>\n",
       "      <th>3</th>\n",
       "      <td>3</td>\n",
       "      <td>7071</td>\n",
       "      <td>tt0468569</td>\n",
       "      <td>True</td>\n",
       "      <td>[i, think, the, big, question, ..., or, the, q...</td>\n",
       "    </tr>\n",
       "    <tr>\n",
       "      <th>4</th>\n",
       "      <td>4</td>\n",
       "      <td>7072</td>\n",
       "      <td>tt0468569</td>\n",
       "      <td>True</td>\n",
       "      <td>[(, synopsi, ), bruce, wayne/batman, (, christ...</td>\n",
       "    </tr>\n",
       "  </tbody>\n",
       "</table>\n",
       "</div>"
      ],
      "text/plain": [
       "   level_0  index   movie_id  is_spoiler  \\\n",
       "0        0   7068  tt0468569        True   \n",
       "1        1   7069  tt0468569        True   \n",
       "2        2   7070  tt0468569        True   \n",
       "3        3   7071  tt0468569        True   \n",
       "4        4   7072  tt0468569        True   \n",
       "\n",
       "                                         review_text  \n",
       "0  [i, got, to, see, the, dark, knight, on, wedne...  \n",
       "1  [i, must, say, i, was, excit, for, this, movi,...  \n",
       "2  [i, thought, batman, begin, was, a, veri, well...  \n",
       "3  [i, think, the, big, question, ..., or, the, q...  \n",
       "4  [(, synopsi, ), bruce, wayne/batman, (, christ...  "
      ]
     },
     "execution_count": 52,
     "metadata": {},
     "output_type": "execute_result"
    }
   ],
   "source": [
    "movie1.head()"
   ]
  },
  {
   "cell_type": "markdown",
   "id": "7618649c",
   "metadata": {},
   "source": [
    "## Stopword Removal"
   ]
  },
  {
   "cell_type": "markdown",
   "id": "de20d135",
   "metadata": {},
   "source": [
    "A stop word is a commonly used word (such as “the”, “a”, “an”, “in”) that a search engine has been programmed to ignore."
   ]
  },
  {
   "cell_type": "code",
   "execution_count": 53,
   "id": "7547cfbe",
   "metadata": {},
   "outputs": [],
   "source": [
    "def stop_it(text):\n",
    "    dt = [word for word in text if len(word)>2]\n",
    "    return dt"
   ]
  },
  {
   "cell_type": "code",
   "execution_count": 55,
   "id": "4ca21ca1",
   "metadata": {},
   "outputs": [],
   "source": [
    "movie1['review_text'] = movie1['review_text'].apply(stop_it)"
   ]
  },
  {
   "cell_type": "code",
   "execution_count": 57,
   "id": "9e43efb4",
   "metadata": {},
   "outputs": [
    {
     "data": {
      "text/html": [
       "<div>\n",
       "<style scoped>\n",
       "    .dataframe tbody tr th:only-of-type {\n",
       "        vertical-align: middle;\n",
       "    }\n",
       "\n",
       "    .dataframe tbody tr th {\n",
       "        vertical-align: top;\n",
       "    }\n",
       "\n",
       "    .dataframe thead th {\n",
       "        text-align: right;\n",
       "    }\n",
       "</style>\n",
       "<table border=\"1\" class=\"dataframe\">\n",
       "  <thead>\n",
       "    <tr style=\"text-align: right;\">\n",
       "      <th></th>\n",
       "      <th>level_0</th>\n",
       "      <th>index</th>\n",
       "      <th>movie_id</th>\n",
       "      <th>is_spoiler</th>\n",
       "      <th>review_text</th>\n",
       "    </tr>\n",
       "  </thead>\n",
       "  <tbody>\n",
       "    <tr>\n",
       "      <th>0</th>\n",
       "      <td>0</td>\n",
       "      <td>7068</td>\n",
       "      <td>tt0468569</td>\n",
       "      <td>True</td>\n",
       "      <td>[got, see, the, dark, knight, wednesday, night...</td>\n",
       "    </tr>\n",
       "    <tr>\n",
       "      <th>1</th>\n",
       "      <td>1</td>\n",
       "      <td>7069</td>\n",
       "      <td>tt0468569</td>\n",
       "      <td>True</td>\n",
       "      <td>[must, say, was, excit, for, this, movi, sinc,...</td>\n",
       "    </tr>\n",
       "    <tr>\n",
       "      <th>2</th>\n",
       "      <td>2</td>\n",
       "      <td>7070</td>\n",
       "      <td>tt0468569</td>\n",
       "      <td>True</td>\n",
       "      <td>[thought, batman, begin, was, veri, well, conc...</td>\n",
       "    </tr>\n",
       "    <tr>\n",
       "      <th>3</th>\n",
       "      <td>3</td>\n",
       "      <td>7071</td>\n",
       "      <td>tt0468569</td>\n",
       "      <td>True</td>\n",
       "      <td>[think, the, big, question, ..., the, question...</td>\n",
       "    </tr>\n",
       "    <tr>\n",
       "      <th>4</th>\n",
       "      <td>4</td>\n",
       "      <td>7072</td>\n",
       "      <td>tt0468569</td>\n",
       "      <td>True</td>\n",
       "      <td>[synopsi, bruce, wayne/batman, christian, bale...</td>\n",
       "    </tr>\n",
       "  </tbody>\n",
       "</table>\n",
       "</div>"
      ],
      "text/plain": [
       "   level_0  index   movie_id  is_spoiler  \\\n",
       "0        0   7068  tt0468569        True   \n",
       "1        1   7069  tt0468569        True   \n",
       "2        2   7070  tt0468569        True   \n",
       "3        3   7071  tt0468569        True   \n",
       "4        4   7072  tt0468569        True   \n",
       "\n",
       "                                         review_text  \n",
       "0  [got, see, the, dark, knight, wednesday, night...  \n",
       "1  [must, say, was, excit, for, this, movi, sinc,...  \n",
       "2  [thought, batman, begin, was, veri, well, conc...  \n",
       "3  [think, the, big, question, ..., the, question...  \n",
       "4  [synopsi, bruce, wayne/batman, christian, bale...  "
      ]
     },
     "execution_count": 57,
     "metadata": {},
     "output_type": "execute_result"
    }
   ],
   "source": [
    "movie1.head()"
   ]
  },
  {
   "cell_type": "code",
   "execution_count": 59,
   "id": "339690a7",
   "metadata": {},
   "outputs": [],
   "source": [
    "movie1['review_text'] = movie1['review_text'].apply(' '.join)"
   ]
  },
  {
   "cell_type": "code",
   "execution_count": 60,
   "id": "4be15ce4",
   "metadata": {},
   "outputs": [
    {
     "data": {
      "text/html": [
       "<div>\n",
       "<style scoped>\n",
       "    .dataframe tbody tr th:only-of-type {\n",
       "        vertical-align: middle;\n",
       "    }\n",
       "\n",
       "    .dataframe tbody tr th {\n",
       "        vertical-align: top;\n",
       "    }\n",
       "\n",
       "    .dataframe thead th {\n",
       "        text-align: right;\n",
       "    }\n",
       "</style>\n",
       "<table border=\"1\" class=\"dataframe\">\n",
       "  <thead>\n",
       "    <tr style=\"text-align: right;\">\n",
       "      <th></th>\n",
       "      <th>level_0</th>\n",
       "      <th>index</th>\n",
       "      <th>movie_id</th>\n",
       "      <th>is_spoiler</th>\n",
       "      <th>review_text</th>\n",
       "    </tr>\n",
       "  </thead>\n",
       "  <tbody>\n",
       "    <tr>\n",
       "      <th>0</th>\n",
       "      <td>0</td>\n",
       "      <td>7068</td>\n",
       "      <td>tt0468569</td>\n",
       "      <td>True</td>\n",
       "      <td>got see the dark knight wednesday night the re...</td>\n",
       "    </tr>\n",
       "    <tr>\n",
       "      <th>1</th>\n",
       "      <td>1</td>\n",
       "      <td>7069</td>\n",
       "      <td>tt0468569</td>\n",
       "      <td>True</td>\n",
       "      <td>must say was excit for this movi sinc the inst...</td>\n",
       "    </tr>\n",
       "    <tr>\n",
       "      <th>2</th>\n",
       "      <td>2</td>\n",
       "      <td>7070</td>\n",
       "      <td>tt0468569</td>\n",
       "      <td>True</td>\n",
       "      <td>thought batman begin was veri well conceiv and...</td>\n",
       "    </tr>\n",
       "    <tr>\n",
       "      <th>3</th>\n",
       "      <td>3</td>\n",
       "      <td>7071</td>\n",
       "      <td>tt0468569</td>\n",
       "      <td>True</td>\n",
       "      <td>think the big question ... the question everyo...</td>\n",
       "    </tr>\n",
       "    <tr>\n",
       "      <th>4</th>\n",
       "      <td>4</td>\n",
       "      <td>7072</td>\n",
       "      <td>tt0468569</td>\n",
       "      <td>True</td>\n",
       "      <td>synopsi bruce wayne/batman christian bale cont...</td>\n",
       "    </tr>\n",
       "  </tbody>\n",
       "</table>\n",
       "</div>"
      ],
      "text/plain": [
       "   level_0  index   movie_id  is_spoiler  \\\n",
       "0        0   7068  tt0468569        True   \n",
       "1        1   7069  tt0468569        True   \n",
       "2        2   7070  tt0468569        True   \n",
       "3        3   7071  tt0468569        True   \n",
       "4        4   7072  tt0468569        True   \n",
       "\n",
       "                                         review_text  \n",
       "0  got see the dark knight wednesday night the re...  \n",
       "1  must say was excit for this movi sinc the inst...  \n",
       "2  thought batman begin was veri well conceiv and...  \n",
       "3  think the big question ... the question everyo...  \n",
       "4  synopsi bruce wayne/batman christian bale cont...  "
      ]
     },
     "execution_count": 60,
     "metadata": {},
     "output_type": "execute_result"
    }
   ],
   "source": [
    "movie1.head()"
   ]
  },
  {
   "cell_type": "markdown",
   "id": "b771d615",
   "metadata": {},
   "source": [
    "# Splitting of Data"
   ]
  },
  {
   "cell_type": "code",
   "execution_count": 76,
   "id": "988eef8c",
   "metadata": {},
   "outputs": [
    {
     "data": {
      "text/plain": [
       "'X_train'"
      ]
     },
     "metadata": {},
     "output_type": "display_data"
    },
    {
     "data": {
      "text/plain": [
       "2892    while this film has superb act far heath ledge...\n",
       "2065    most the time peopl give film they enjoy but n...\n",
       "3481    saw this movi the 25th juli which was the prem...\n",
       "3644    sorri entir cast other than heath ledger heath...\n",
       "1774    humm saw this film befor batman begin and poss...\n",
       "Name: review_text, dtype: object"
      ]
     },
     "metadata": {},
     "output_type": "display_data"
    },
    {
     "name": "stdout",
     "output_type": "stream",
     "text": [
      "\n",
      "\n"
     ]
    },
    {
     "data": {
      "text/plain": [
       "'Y_train'"
      ]
     },
     "metadata": {},
     "output_type": "display_data"
    },
    {
     "data": {
      "text/plain": [
       "2892    False\n",
       "2065    False\n",
       "3481    False\n",
       "3644    False\n",
       "1774    False\n",
       "Name: is_spoiler, dtype: bool"
      ]
     },
     "metadata": {},
     "output_type": "display_data"
    }
   ],
   "source": [
    "from sklearn.model_selection import train_test_split\n",
    "\n",
    "X_train, X_test, y_train, y_test = train_test_split(movie1['review_text'], movie1['is_spoiler'], test_size=0.25)\n",
    "display(\"X_train\", X_train.head())\n",
    "print('\\n')\n",
    "display(\"Y_train\", y_train.head())"
   ]
  },
  {
   "cell_type": "markdown",
   "id": "c704aab3",
   "metadata": {},
   "source": [
    "# Vectorization\n",
    "The Vectorization is a technique used to convert textual data to numerical format.\n",
    "\n",
    "Using Vectorization, a matrix is created where each column represents a feature and each row represents an individual review"
   ]
  },
  {
   "cell_type": "code",
   "execution_count": 78,
   "id": "ee609ed1",
   "metadata": {},
   "outputs": [],
   "source": [
    "from sklearn.feature_extraction.text import TfidfVectorizer\n",
    "my_tfidf = TfidfVectorizer(max_df=0.7)\n",
    "\n",
    "tfidf_train = my_tfidf.fit_transform(X_train)\n",
    "tfidf_test = my_tfidf.transform(X_test)"
   ]
  },
  {
   "cell_type": "code",
   "execution_count": 79,
   "id": "98b9a891",
   "metadata": {},
   "outputs": [
    {
     "name": "stdout",
     "output_type": "stream",
     "text": [
      "(3633, 14850) (1212, 14850) (3633,)\n"
     ]
    }
   ],
   "source": [
    "print(tfidf_train.shape, tfidf_test.shape, y_train.shape)"
   ]
  },
  {
   "cell_type": "markdown",
   "id": "b8aff026",
   "metadata": {},
   "source": [
    "# Logistic Regression"
   ]
  },
  {
   "cell_type": "code",
   "execution_count": 80,
   "id": "e027d6e9",
   "metadata": {},
   "outputs": [],
   "source": [
    "from sklearn.linear_model import LogisticRegression\n",
    "from sklearn.metrics import accuracy_score"
   ]
  },
  {
   "cell_type": "code",
   "execution_count": 81,
   "id": "4c3812a8",
   "metadata": {},
   "outputs": [
    {
     "name": "stdout",
     "output_type": "stream",
     "text": [
      "73.51485148514851 %\n"
     ]
    }
   ],
   "source": [
    "model_1 = LogisticRegression(max_iter = 900, solver = 'lbfgs')\n",
    "model_1.fit(tfidf_train, y_train)\n",
    "pred_1 = model_1.predict(tfidf_test)\n",
    "cr1 = accuracy_score(y_test, pred_1)\n",
    "print(cr1*100,\"%\")"
   ]
  },
  {
   "cell_type": "markdown",
   "id": "8f32b2ac",
   "metadata": {},
   "source": [
    "# Passive Agressive Classifier\n",
    "Passive: If the prediction is correct, keep the model and do not make any changes. i.e., the data in the example is not enough to cause any changes in the model.\n",
    "\n",
    "Aggressive: If the prediction is incorrect, make changes to the model. i.e., some change to the model may correct it."
   ]
  },
  {
   "cell_type": "code",
   "execution_count": 82,
   "id": "0912f8ac",
   "metadata": {},
   "outputs": [
    {
     "data": {
      "text/plain": [
       "PassiveAggressiveClassifier(max_iter=50)"
      ]
     },
     "execution_count": 82,
     "metadata": {},
     "output_type": "execute_result"
    }
   ],
   "source": [
    "from sklearn.linear_model import PassiveAggressiveClassifier\n",
    "\n",
    "model = PassiveAggressiveClassifier(max_iter=50)\n",
    "model.fit(tfidf_train, y_train)"
   ]
  },
  {
   "cell_type": "code",
   "execution_count": 83,
   "id": "8e6ad00c",
   "metadata": {},
   "outputs": [
    {
     "name": "stdout",
     "output_type": "stream",
     "text": [
      "The Accuracy of the prediction is :  63.20132013201321\n"
     ]
    }
   ],
   "source": [
    "y_pred = model.predict(tfidf_test)\n",
    "acc_score = accuracy_score(y_test, y_pred)\n",
    "print(\"The Accuracy of the prediction is : \", acc_score*100)"
   ]
  },
  {
   "cell_type": "code",
   "execution_count": null,
   "id": "4e0f656e",
   "metadata": {},
   "outputs": [],
   "source": []
  }
 ],
 "metadata": {
  "kernelspec": {
   "display_name": "Python 3",
   "language": "python",
   "name": "python3"
  },
  "language_info": {
   "codemirror_mode": {
    "name": "ipython",
    "version": 3
   },
   "file_extension": ".py",
   "mimetype": "text/x-python",
   "name": "python",
   "nbconvert_exporter": "python",
   "pygments_lexer": "ipython3",
   "version": "3.8.8"
  }
 },
 "nbformat": 4,
 "nbformat_minor": 5
}
