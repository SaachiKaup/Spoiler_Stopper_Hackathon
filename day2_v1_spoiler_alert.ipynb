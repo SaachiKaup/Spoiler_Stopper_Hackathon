{
 "cells": [
  {
   "cell_type": "code",
   "execution_count": 1,
   "id": "cdad3073",
   "metadata": {},
   "outputs": [],
   "source": [
    "import pandas as pd\n",
    "import numpy as np\n",
    "import sklearn as sk\n",
    "import matplotlib.pyplot as plt\n",
    "import warnings\n",
    "warnings.filterwarnings('ignore')"
   ]
  },
  {
   "cell_type": "code",
   "execution_count": 2,
   "id": "f373b12b",
   "metadata": {},
   "outputs": [],
   "source": [
    "df_reviews = pd.read_json(\"IMDB_reviews.json\", lines=True)"
   ]
  },
  {
   "cell_type": "code",
   "execution_count": 3,
   "id": "022d5347",
   "metadata": {},
   "outputs": [],
   "source": [
    "df_movies = pd.read_json('IMDB_movie_details.json', lines = True)"
   ]
  },
  {
   "cell_type": "code",
   "execution_count": 4,
   "id": "c44a1ce3",
   "metadata": {},
   "outputs": [],
   "source": [
    "def get_info(df):\n",
    "    return df.info()"
   ]
  },
  {
   "cell_type": "code",
   "execution_count": 5,
   "id": "1a5c2e35",
   "metadata": {},
   "outputs": [],
   "source": [
    "def get_head(df):\n",
    "    return df.head()"
   ]
  },
  {
   "cell_type": "code",
   "execution_count": 6,
   "id": "c1072235",
   "metadata": {},
   "outputs": [],
   "source": [
    "df_reviews.drop([\"review_date\", \"user_id\",\"rating\", \"review_summary\"], axis=\"columns\",inplace=True)"
   ]
  },
  {
   "cell_type": "code",
   "execution_count": 7,
   "id": "57634c4a",
   "metadata": {},
   "outputs": [],
   "source": [
    "df_movies.drop([\"duration\", \"rating\", \"plot_summary\", \"plot_synopsis\"], axis=\"columns\",inplace=True)"
   ]
  },
  {
   "cell_type": "code",
   "execution_count": 8,
   "id": "a416527e",
   "metadata": {},
   "outputs": [
    {
     "name": "stdout",
     "output_type": "stream",
     "text": [
      "<class 'pandas.core.frame.DataFrame'>\n",
      "RangeIndex: 1572 entries, 0 to 1571\n",
      "Data columns (total 3 columns):\n",
      " #   Column        Non-Null Count  Dtype \n",
      "---  ------        --------------  ----- \n",
      " 0   movie_id      1572 non-null   object\n",
      " 1   genre         1572 non-null   object\n",
      " 2   release_date  1572 non-null   object\n",
      "dtypes: object(3)\n",
      "memory usage: 37.0+ KB\n"
     ]
    }
   ],
   "source": [
    "get_info(df_movies)"
   ]
  },
  {
   "cell_type": "code",
   "execution_count": 9,
   "id": "7b20fb4d",
   "metadata": {},
   "outputs": [
    {
     "data": {
      "text/plain": [
       "False    422989\n",
       "True     150924\n",
       "Name: is_spoiler, dtype: int64"
      ]
     },
     "metadata": {},
     "output_type": "display_data"
    }
   ],
   "source": [
    "display(df_reviews.is_spoiler.value_counts())"
   ]
  },
  {
   "cell_type": "code",
   "execution_count": 6,
   "id": "37ee10a4",
   "metadata": {},
   "outputs": [
    {
     "data": {
      "text/plain": [
       "tt0468569    4845\n",
       "tt0111161    4361\n",
       "tt0167260    2729\n",
       "tt0137523    2480\n",
       "tt0068646    2137\n",
       "             ... \n",
       "tt0107719      12\n",
       "tt6294822      11\n",
       "tt0104014       5\n",
       "tt0201265       4\n",
       "tt0114142       2\n",
       "Name: movie_id, Length: 1572, dtype: int64"
      ]
     },
     "metadata": {},
     "output_type": "display_data"
    }
   ],
   "source": [
    "display(df_reviews.movie_id.value_counts())"
   ]
  },
  {
   "cell_type": "code",
   "execution_count": 8,
   "id": "dfdf7bf0",
   "metadata": {},
   "outputs": [],
   "source": [
    "def add_col(a_df, b_df, on_col):\n",
    "    pd.merge(a_df, b_df, on = on_col, how = 'left')"
   ]
  },
  {
   "cell_type": "code",
   "execution_count": 9,
   "id": "2c163ca3",
   "metadata": {},
   "outputs": [],
   "source": [
    "add_col(df_reviews, df_movies, 'movie_id')"
   ]
  },
  {
   "cell_type": "code",
   "execution_count": 152,
   "id": "4dae3e5e",
   "metadata": {},
   "outputs": [
    {
     "data": {
      "text/html": [
       "<div>\n",
       "<style scoped>\n",
       "    .dataframe tbody tr th:only-of-type {\n",
       "        vertical-align: middle;\n",
       "    }\n",
       "\n",
       "    .dataframe tbody tr th {\n",
       "        vertical-align: top;\n",
       "    }\n",
       "\n",
       "    .dataframe thead th {\n",
       "        text-align: right;\n",
       "    }\n",
       "</style>\n",
       "<table border=\"1\" class=\"dataframe\">\n",
       "  <thead>\n",
       "    <tr style=\"text-align: right;\">\n",
       "      <th></th>\n",
       "      <th>movie_id</th>\n",
       "      <th>is_spoiler</th>\n",
       "      <th>review_text</th>\n",
       "    </tr>\n",
       "  </thead>\n",
       "  <tbody>\n",
       "    <tr>\n",
       "      <th>0</th>\n",
       "      <td>tt0111161</td>\n",
       "      <td>True</td>\n",
       "      <td>In its Oscar year, Shawshank Redemption (writt...</td>\n",
       "    </tr>\n",
       "    <tr>\n",
       "      <th>1</th>\n",
       "      <td>tt0111161</td>\n",
       "      <td>True</td>\n",
       "      <td>The Shawshank Redemption is without a doubt on...</td>\n",
       "    </tr>\n",
       "    <tr>\n",
       "      <th>2</th>\n",
       "      <td>tt0111161</td>\n",
       "      <td>True</td>\n",
       "      <td>I believe that this film is the best story eve...</td>\n",
       "    </tr>\n",
       "    <tr>\n",
       "      <th>3</th>\n",
       "      <td>tt0111161</td>\n",
       "      <td>True</td>\n",
       "      <td>**Yes, there are SPOILERS here**This film has ...</td>\n",
       "    </tr>\n",
       "    <tr>\n",
       "      <th>4</th>\n",
       "      <td>tt0111161</td>\n",
       "      <td>True</td>\n",
       "      <td>At the heart of this extraordinary movie is a ...</td>\n",
       "    </tr>\n",
       "  </tbody>\n",
       "</table>\n",
       "</div>"
      ],
      "text/plain": [
       "    movie_id  is_spoiler                                        review_text\n",
       "0  tt0111161        True  In its Oscar year, Shawshank Redemption (writt...\n",
       "1  tt0111161        True  The Shawshank Redemption is without a doubt on...\n",
       "2  tt0111161        True  I believe that this film is the best story eve...\n",
       "3  tt0111161        True  **Yes, there are SPOILERS here**This film has ...\n",
       "4  tt0111161        True  At the heart of this extraordinary movie is a ..."
      ]
     },
     "execution_count": 152,
     "metadata": {},
     "output_type": "execute_result"
    }
   ],
   "source": [
    "get_head(df_reviews)"
   ]
  },
  {
   "cell_type": "code",
   "execution_count": 13,
   "id": "f6878477",
   "metadata": {},
   "outputs": [
    {
     "name": "stdout",
     "output_type": "stream",
     "text": [
      "<class 'pandas.core.frame.DataFrame'>\n",
      "RangeIndex: 573913 entries, 0 to 573912\n",
      "Data columns (total 3 columns):\n",
      " #   Column       Non-Null Count   Dtype \n",
      "---  ------       --------------   ----- \n",
      " 0   movie_id     573913 non-null  object\n",
      " 1   is_spoiler   573913 non-null  bool  \n",
      " 2   review_text  573913 non-null  object\n",
      "dtypes: bool(1), object(2)\n",
      "memory usage: 9.3+ MB\n"
     ]
    }
   ],
   "source": [
    "get_info(df_reviews)"
   ]
  },
  {
   "cell_type": "code",
   "execution_count": 153,
   "id": "29cdcde6",
   "metadata": {},
   "outputs": [],
   "source": [
    "#movie_reviews_df = df_reviews.iloc[ :25000]\n",
    "def get_sample(df, samp_size):\n",
    "    return df.sample(n = samp_size)"
   ]
  },
  {
   "cell_type": "code",
   "execution_count": 154,
   "id": "3673acb0",
   "metadata": {},
   "outputs": [],
   "source": [
    "movie_reviews_df = get_sample(df_reviews, 20000)"
   ]
  },
  {
   "cell_type": "code",
   "execution_count": 155,
   "id": "4cba7e87",
   "metadata": {},
   "outputs": [],
   "source": [
    "def reset_idx(df):\n",
    "    return df.reset_index()"
   ]
  },
  {
   "cell_type": "code",
   "execution_count": 156,
   "id": "571a42c1",
   "metadata": {},
   "outputs": [],
   "source": [
    "movie_reviews_df = reset_idx(movie_reviews_df)"
   ]
  },
  {
   "cell_type": "code",
   "execution_count": 157,
   "id": "72ffe9d0",
   "metadata": {},
   "outputs": [
    {
     "name": "stdout",
     "output_type": "stream",
     "text": [
      "<class 'pandas.core.frame.DataFrame'>\n",
      "RangeIndex: 20000 entries, 0 to 19999\n",
      "Data columns (total 4 columns):\n",
      " #   Column       Non-Null Count  Dtype \n",
      "---  ------       --------------  ----- \n",
      " 0   index        20000 non-null  int64 \n",
      " 1   movie_id     20000 non-null  object\n",
      " 2   is_spoiler   20000 non-null  bool  \n",
      " 3   review_text  20000 non-null  object\n",
      "dtypes: bool(1), int64(1), object(2)\n",
      "memory usage: 488.4+ KB\n"
     ]
    }
   ],
   "source": [
    "get_info(movie_reviews_df)"
   ]
  },
  {
   "cell_type": "code",
   "execution_count": 158,
   "id": "2b40a910",
   "metadata": {},
   "outputs": [
    {
     "data": {
      "text/html": [
       "<div>\n",
       "<style scoped>\n",
       "    .dataframe tbody tr th:only-of-type {\n",
       "        vertical-align: middle;\n",
       "    }\n",
       "\n",
       "    .dataframe tbody tr th {\n",
       "        vertical-align: top;\n",
       "    }\n",
       "\n",
       "    .dataframe thead th {\n",
       "        text-align: right;\n",
       "    }\n",
       "</style>\n",
       "<table border=\"1\" class=\"dataframe\">\n",
       "  <thead>\n",
       "    <tr style=\"text-align: right;\">\n",
       "      <th></th>\n",
       "      <th>index</th>\n",
       "      <th>movie_id</th>\n",
       "      <th>is_spoiler</th>\n",
       "      <th>review_text</th>\n",
       "    </tr>\n",
       "  </thead>\n",
       "  <tbody>\n",
       "    <tr>\n",
       "      <th>0</th>\n",
       "      <td>504342</td>\n",
       "      <td>tt0107050</td>\n",
       "      <td>False</td>\n",
       "      <td>It has been twenty years since the original re...</td>\n",
       "    </tr>\n",
       "    <tr>\n",
       "      <th>1</th>\n",
       "      <td>220413</td>\n",
       "      <td>tt1371150</td>\n",
       "      <td>True</td>\n",
       "      <td>A family spends a week together on the request...</td>\n",
       "    </tr>\n",
       "    <tr>\n",
       "      <th>2</th>\n",
       "      <td>116803</td>\n",
       "      <td>tt3647998</td>\n",
       "      <td>False</td>\n",
       "      <td>Thick British accents, low volume while the th...</td>\n",
       "    </tr>\n",
       "    <tr>\n",
       "      <th>3</th>\n",
       "      <td>447785</td>\n",
       "      <td>tt0367882</td>\n",
       "      <td>True</td>\n",
       "      <td>For starters, this isn't a review. I can't bri...</td>\n",
       "    </tr>\n",
       "    <tr>\n",
       "      <th>4</th>\n",
       "      <td>384919</td>\n",
       "      <td>tt0435625</td>\n",
       "      <td>False</td>\n",
       "      <td>Creepy eerie little horror film from England. ...</td>\n",
       "    </tr>\n",
       "  </tbody>\n",
       "</table>\n",
       "</div>"
      ],
      "text/plain": [
       "    index   movie_id  is_spoiler  \\\n",
       "0  504342  tt0107050       False   \n",
       "1  220413  tt1371150        True   \n",
       "2  116803  tt3647998       False   \n",
       "3  447785  tt0367882        True   \n",
       "4  384919  tt0435625       False   \n",
       "\n",
       "                                         review_text  \n",
       "0  It has been twenty years since the original re...  \n",
       "1  A family spends a week together on the request...  \n",
       "2  Thick British accents, low volume while the th...  \n",
       "3  For starters, this isn't a review. I can't bri...  \n",
       "4  Creepy eerie little horror film from England. ...  "
      ]
     },
     "execution_count": 158,
     "metadata": {},
     "output_type": "execute_result"
    }
   ],
   "source": [
    "get_head(movie_reviews_df)"
   ]
  },
  {
   "cell_type": "markdown",
   "id": "c4ae9109",
   "metadata": {},
   "source": [
    "# Text Preprocessing"
   ]
  },
  {
   "cell_type": "code",
   "execution_count": null,
   "id": "cc499ef3",
   "metadata": {},
   "outputs": [],
   "source": [
    "#clean the dataset"
   ]
  },
  {
   "cell_type": "code",
   "execution_count": 159,
   "id": "7fc6ce67",
   "metadata": {},
   "outputs": [],
   "source": [
    "def apply_func_2_col(df, col, func):\n",
    "    df[col] = df[col].apply(func)"
   ]
  },
  {
   "cell_type": "code",
   "execution_count": 160,
   "id": "c83c893e",
   "metadata": {},
   "outputs": [],
   "source": [
    "import re"
   ]
  },
  {
   "cell_type": "code",
   "execution_count": 161,
   "id": "2644e1dd",
   "metadata": {},
   "outputs": [],
   "source": [
    "def lower_df(df, col):\n",
    "    df[col] = [_.lower() for _ in df[col]]\n",
    "    "
   ]
  },
  {
   "cell_type": "code",
   "execution_count": 162,
   "id": "36563c4c",
   "metadata": {},
   "outputs": [],
   "source": [
    "#lower all the words for simplification\n",
    "lower_df(movie_reviews_df, 'review_text')"
   ]
  },
  {
   "cell_type": "code",
   "execution_count": 163,
   "id": "6e012392",
   "metadata": {},
   "outputs": [],
   "source": [
    "def remove_punc(df, col):\n",
    "    df[col] = [re.sub(r'\\W', ' ', _) for _ in df[col]]\n",
    "    df[col] = [re.sub(r'\\s+', ' ', _) for _ in df[col]]"
   ]
  },
  {
   "cell_type": "code",
   "execution_count": 164,
   "id": "3ade87bf",
   "metadata": {},
   "outputs": [],
   "source": [
    "remove_punc(movie_reviews_df, 'review_text')"
   ]
  },
  {
   "cell_type": "markdown",
   "id": "e42abbee",
   "metadata": {},
   "source": [
    "## Tokenization"
   ]
  },
  {
   "cell_type": "markdown",
   "id": "49ee3e82",
   "metadata": {},
   "source": [
    "This process divides a large piece of continuous text into distinct units or tokens basically this process is often known as Tokenization."
   ]
  },
  {
   "cell_type": "code",
   "execution_count": 165,
   "id": "c7ff26c0",
   "metadata": {},
   "outputs": [],
   "source": [
    "from nltk.tokenize import word_tokenize"
   ]
  },
  {
   "cell_type": "code",
   "execution_count": 166,
   "id": "1ea6e2c8",
   "metadata": {},
   "outputs": [],
   "source": [
    "def tokenize_df(df_col):\n",
    "    return df_col.apply(word_tokenize)"
   ]
  },
  {
   "cell_type": "code",
   "execution_count": 167,
   "id": "64c59d2b",
   "metadata": {},
   "outputs": [],
   "source": [
    "movie_reviews_df['review_text'] = tokenize_df(movie_reviews_df['review_text'])"
   ]
  },
  {
   "cell_type": "code",
   "execution_count": 168,
   "id": "2a2a9ecc",
   "metadata": {},
   "outputs": [
    {
     "data": {
      "text/html": [
       "<div>\n",
       "<style scoped>\n",
       "    .dataframe tbody tr th:only-of-type {\n",
       "        vertical-align: middle;\n",
       "    }\n",
       "\n",
       "    .dataframe tbody tr th {\n",
       "        vertical-align: top;\n",
       "    }\n",
       "\n",
       "    .dataframe thead th {\n",
       "        text-align: right;\n",
       "    }\n",
       "</style>\n",
       "<table border=\"1\" class=\"dataframe\">\n",
       "  <thead>\n",
       "    <tr style=\"text-align: right;\">\n",
       "      <th></th>\n",
       "      <th>index</th>\n",
       "      <th>movie_id</th>\n",
       "      <th>is_spoiler</th>\n",
       "      <th>review_text</th>\n",
       "    </tr>\n",
       "  </thead>\n",
       "  <tbody>\n",
       "    <tr>\n",
       "      <th>0</th>\n",
       "      <td>504342</td>\n",
       "      <td>tt0107050</td>\n",
       "      <td>False</td>\n",
       "      <td>[it, has, been, twenty, years, since, the, ori...</td>\n",
       "    </tr>\n",
       "    <tr>\n",
       "      <th>1</th>\n",
       "      <td>220413</td>\n",
       "      <td>tt1371150</td>\n",
       "      <td>True</td>\n",
       "      <td>[a, family, spends, a, week, together, on, the...</td>\n",
       "    </tr>\n",
       "    <tr>\n",
       "      <th>2</th>\n",
       "      <td>116803</td>\n",
       "      <td>tt3647998</td>\n",
       "      <td>False</td>\n",
       "      <td>[thick, british, accents, low, volume, while, ...</td>\n",
       "    </tr>\n",
       "    <tr>\n",
       "      <th>3</th>\n",
       "      <td>447785</td>\n",
       "      <td>tt0367882</td>\n",
       "      <td>True</td>\n",
       "      <td>[for, starters, this, isn, t, a, review, i, ca...</td>\n",
       "    </tr>\n",
       "    <tr>\n",
       "      <th>4</th>\n",
       "      <td>384919</td>\n",
       "      <td>tt0435625</td>\n",
       "      <td>False</td>\n",
       "      <td>[creepy, eerie, little, horror, film, from, en...</td>\n",
       "    </tr>\n",
       "  </tbody>\n",
       "</table>\n",
       "</div>"
      ],
      "text/plain": [
       "    index   movie_id  is_spoiler  \\\n",
       "0  504342  tt0107050       False   \n",
       "1  220413  tt1371150        True   \n",
       "2  116803  tt3647998       False   \n",
       "3  447785  tt0367882        True   \n",
       "4  384919  tt0435625       False   \n",
       "\n",
       "                                         review_text  \n",
       "0  [it, has, been, twenty, years, since, the, ori...  \n",
       "1  [a, family, spends, a, week, together, on, the...  \n",
       "2  [thick, british, accents, low, volume, while, ...  \n",
       "3  [for, starters, this, isn, t, a, review, i, ca...  \n",
       "4  [creepy, eerie, little, horror, film, from, en...  "
      ]
     },
     "execution_count": 168,
     "metadata": {},
     "output_type": "execute_result"
    }
   ],
   "source": [
    "get_head(movie_reviews_df)"
   ]
  },
  {
   "cell_type": "markdown",
   "id": "f3ecb44a",
   "metadata": {},
   "source": [
    "## Stemming"
   ]
  },
  {
   "cell_type": "markdown",
   "id": "27982b63",
   "metadata": {},
   "source": [
    "This is the idea of removing the suffix of a word and reducing different forms of a word to a core root.\n",
    "eg. waiting , waited , waits -> wait"
   ]
  },
  {
   "cell_type": "code",
   "execution_count": 169,
   "id": "c738d80c",
   "metadata": {},
   "outputs": [],
   "source": [
    "from nltk.stem.snowball import SnowballStemmer\n",
    "porter = SnowballStemmer(\"english\")"
   ]
  },
  {
   "cell_type": "code",
   "execution_count": 170,
   "id": "c003abd4",
   "metadata": {},
   "outputs": [],
   "source": [
    "def stem_it(text):\n",
    "    return[porter.stem(word) for word in text]"
   ]
  },
  {
   "cell_type": "code",
   "execution_count": 171,
   "id": "0ace0026",
   "metadata": {},
   "outputs": [],
   "source": [
    "movie_reviews_df['review_text'] = movie_reviews_df['review_text'].apply(stem_it)"
   ]
  },
  {
   "cell_type": "code",
   "execution_count": 172,
   "id": "67e09c49",
   "metadata": {},
   "outputs": [
    {
     "data": {
      "text/html": [
       "<div>\n",
       "<style scoped>\n",
       "    .dataframe tbody tr th:only-of-type {\n",
       "        vertical-align: middle;\n",
       "    }\n",
       "\n",
       "    .dataframe tbody tr th {\n",
       "        vertical-align: top;\n",
       "    }\n",
       "\n",
       "    .dataframe thead th {\n",
       "        text-align: right;\n",
       "    }\n",
       "</style>\n",
       "<table border=\"1\" class=\"dataframe\">\n",
       "  <thead>\n",
       "    <tr style=\"text-align: right;\">\n",
       "      <th></th>\n",
       "      <th>index</th>\n",
       "      <th>movie_id</th>\n",
       "      <th>is_spoiler</th>\n",
       "      <th>review_text</th>\n",
       "    </tr>\n",
       "  </thead>\n",
       "  <tbody>\n",
       "    <tr>\n",
       "      <th>0</th>\n",
       "      <td>504342</td>\n",
       "      <td>tt0107050</td>\n",
       "      <td>False</td>\n",
       "      <td>[it, has, been, twenti, year, sinc, the, origi...</td>\n",
       "    </tr>\n",
       "    <tr>\n",
       "      <th>1</th>\n",
       "      <td>220413</td>\n",
       "      <td>tt1371150</td>\n",
       "      <td>True</td>\n",
       "      <td>[a, famili, spend, a, week, togeth, on, the, r...</td>\n",
       "    </tr>\n",
       "    <tr>\n",
       "      <th>2</th>\n",
       "      <td>116803</td>\n",
       "      <td>tt3647998</td>\n",
       "      <td>False</td>\n",
       "      <td>[thick, british, accent, low, volum, while, th...</td>\n",
       "    </tr>\n",
       "    <tr>\n",
       "      <th>3</th>\n",
       "      <td>447785</td>\n",
       "      <td>tt0367882</td>\n",
       "      <td>True</td>\n",
       "      <td>[for, starter, this, isn, t, a, review, i, can...</td>\n",
       "    </tr>\n",
       "    <tr>\n",
       "      <th>4</th>\n",
       "      <td>384919</td>\n",
       "      <td>tt0435625</td>\n",
       "      <td>False</td>\n",
       "      <td>[creepi, eeri, littl, horror, film, from, engl...</td>\n",
       "    </tr>\n",
       "  </tbody>\n",
       "</table>\n",
       "</div>"
      ],
      "text/plain": [
       "    index   movie_id  is_spoiler  \\\n",
       "0  504342  tt0107050       False   \n",
       "1  220413  tt1371150        True   \n",
       "2  116803  tt3647998       False   \n",
       "3  447785  tt0367882        True   \n",
       "4  384919  tt0435625       False   \n",
       "\n",
       "                                         review_text  \n",
       "0  [it, has, been, twenti, year, sinc, the, origi...  \n",
       "1  [a, famili, spend, a, week, togeth, on, the, r...  \n",
       "2  [thick, british, accent, low, volum, while, th...  \n",
       "3  [for, starter, this, isn, t, a, review, i, can...  \n",
       "4  [creepi, eeri, littl, horror, film, from, engl...  "
      ]
     },
     "execution_count": 172,
     "metadata": {},
     "output_type": "execute_result"
    }
   ],
   "source": [
    "get_head(movie_reviews_df)"
   ]
  },
  {
   "cell_type": "code",
   "execution_count": 50,
   "id": "3c4d2fd0",
   "metadata": {},
   "outputs": [],
   "source": [
    "def drop_col(df, col):\n",
    "    df.drop(col, axis = \"columns\", inplace = True)"
   ]
  },
  {
   "cell_type": "markdown",
   "id": "7618649c",
   "metadata": {},
   "source": [
    "## Stopword Removal"
   ]
  },
  {
   "cell_type": "markdown",
   "id": "de20d135",
   "metadata": {},
   "source": [
    "A stop word is a commonly used word (such as “the”, “a”, “an”, “in”) that a search engine has been programmed to ignore."
   ]
  },
  {
   "cell_type": "code",
   "execution_count": 173,
   "id": "7547cfbe",
   "metadata": {},
   "outputs": [],
   "source": [
    "def stop_it(text):\n",
    "    dt = [word for word in text if len(word)>2]\n",
    "    return dt"
   ]
  },
  {
   "cell_type": "code",
   "execution_count": 174,
   "id": "6e6f5a63",
   "metadata": {},
   "outputs": [],
   "source": [
    "apply_func_2_col(movie_reviews_df, 'review_text', stop_it)"
   ]
  },
  {
   "cell_type": "code",
   "execution_count": 56,
   "id": "44d725cb",
   "metadata": {},
   "outputs": [],
   "source": [
    "#make bi/trigrams\n",
    "#from nltk.util import ngrams"
   ]
  },
  {
   "cell_type": "code",
   "execution_count": 57,
   "id": "37317f60",
   "metadata": {},
   "outputs": [],
   "source": [
    "#def add_ngrams(df, col, n , new_col):\n",
    "#    df[new_col] = [list(ngrams(sentence, n)) for sentence in df[col]]"
   ]
  },
  {
   "cell_type": "code",
   "execution_count": 58,
   "id": "9d26c163",
   "metadata": {},
   "outputs": [],
   "source": [
    "#add bigrams to MOVIE REVIEWS\n",
    "#add_ngrams(movie_reviews_df, 'review_text', 2, 'bigrams')"
   ]
  },
  {
   "cell_type": "code",
   "execution_count": null,
   "id": "584bf9a2",
   "metadata": {},
   "outputs": [],
   "source": [
    "#join words as a sentence"
   ]
  },
  {
   "cell_type": "code",
   "execution_count": null,
   "id": "c1076f7d",
   "metadata": {},
   "outputs": [],
   "source": []
  },
  {
   "cell_type": "code",
   "execution_count": 175,
   "id": "112c41a8",
   "metadata": {},
   "outputs": [],
   "source": [
    "apply_func_2_col(movie_reviews_df, 'review_text', ' '.join)"
   ]
  },
  {
   "cell_type": "code",
   "execution_count": 176,
   "id": "cb1a79c2",
   "metadata": {},
   "outputs": [
    {
     "data": {
      "text/html": [
       "<div>\n",
       "<style scoped>\n",
       "    .dataframe tbody tr th:only-of-type {\n",
       "        vertical-align: middle;\n",
       "    }\n",
       "\n",
       "    .dataframe tbody tr th {\n",
       "        vertical-align: top;\n",
       "    }\n",
       "\n",
       "    .dataframe thead th {\n",
       "        text-align: right;\n",
       "    }\n",
       "</style>\n",
       "<table border=\"1\" class=\"dataframe\">\n",
       "  <thead>\n",
       "    <tr style=\"text-align: right;\">\n",
       "      <th></th>\n",
       "      <th>index</th>\n",
       "      <th>movie_id</th>\n",
       "      <th>is_spoiler</th>\n",
       "      <th>review_text</th>\n",
       "    </tr>\n",
       "  </thead>\n",
       "  <tbody>\n",
       "    <tr>\n",
       "      <th>0</th>\n",
       "      <td>504342</td>\n",
       "      <td>tt0107050</td>\n",
       "      <td>False</td>\n",
       "      <td>has been twenti year sinc the origin releas gr...</td>\n",
       "    </tr>\n",
       "    <tr>\n",
       "      <th>1</th>\n",
       "      <td>220413</td>\n",
       "      <td>tt1371150</td>\n",
       "      <td>True</td>\n",
       "      <td>famili spend week togeth the request the mom a...</td>\n",
       "    </tr>\n",
       "    <tr>\n",
       "      <th>2</th>\n",
       "      <td>116803</td>\n",
       "      <td>tt3647998</td>\n",
       "      <td>False</td>\n",
       "      <td>thick british accent low volum while the thick...</td>\n",
       "    </tr>\n",
       "    <tr>\n",
       "      <th>3</th>\n",
       "      <td>447785</td>\n",
       "      <td>tt0367882</td>\n",
       "      <td>True</td>\n",
       "      <td>for starter this isn review can bring myself i...</td>\n",
       "    </tr>\n",
       "    <tr>\n",
       "      <th>4</th>\n",
       "      <td>384919</td>\n",
       "      <td>tt0435625</td>\n",
       "      <td>False</td>\n",
       "      <td>creepi eeri littl horror film from england abo...</td>\n",
       "    </tr>\n",
       "  </tbody>\n",
       "</table>\n",
       "</div>"
      ],
      "text/plain": [
       "    index   movie_id  is_spoiler  \\\n",
       "0  504342  tt0107050       False   \n",
       "1  220413  tt1371150        True   \n",
       "2  116803  tt3647998       False   \n",
       "3  447785  tt0367882        True   \n",
       "4  384919  tt0435625       False   \n",
       "\n",
       "                                         review_text  \n",
       "0  has been twenti year sinc the origin releas gr...  \n",
       "1  famili spend week togeth the request the mom a...  \n",
       "2  thick british accent low volum while the thick...  \n",
       "3  for starter this isn review can bring myself i...  \n",
       "4  creepi eeri littl horror film from england abo...  "
      ]
     },
     "execution_count": 176,
     "metadata": {},
     "output_type": "execute_result"
    }
   ],
   "source": [
    "get_head(movie_reviews_df)"
   ]
  },
  {
   "cell_type": "markdown",
   "id": "b771d615",
   "metadata": {},
   "source": [
    "# Splitting of Data"
   ]
  },
  {
   "cell_type": "code",
   "execution_count": 177,
   "id": "988eef8c",
   "metadata": {},
   "outputs": [],
   "source": [
    "from sklearn.model_selection import train_test_split\n"
   ]
  },
  {
   "cell_type": "code",
   "execution_count": 178,
   "id": "37d3d721",
   "metadata": {},
   "outputs": [],
   "source": [
    "def get_train_test(df, text_col, bool_col):\n",
    "    X_train, X_test, y_train, y_test = train_test_split(df[text_col], df[bool_col], test_size=0.25, random_state = 1)\n",
    "    #display(\"X_train\", X_train.head())\n",
    "    #print('\\n')\n",
    "    #display(\"Y_train\", y_train.head())\n",
    "    return X_train, X_test, y_train, y_test"
   ]
  },
  {
   "cell_type": "code",
   "execution_count": 179,
   "id": "60664e2b",
   "metadata": {},
   "outputs": [
    {
     "data": {
      "text/plain": [
       "'X_train'"
      ]
     },
     "metadata": {},
     "output_type": "display_data"
    },
    {
     "data": {
      "text/plain": [
       "18960    this just tell all you movi lover out there th...\n",
       "11353    wreck ralph anim film which entertain more adu...\n",
       "7449     this movi was made the earli 90s befor marvel ...\n",
       "14308    the conceit sound too good true mother and her...\n",
       "11889    this movi without doubt favorit western all ti...\n",
       "Name: review_text, dtype: object"
      ]
     },
     "metadata": {},
     "output_type": "display_data"
    },
    {
     "name": "stdout",
     "output_type": "stream",
     "text": [
      "\n",
      "\n"
     ]
    },
    {
     "data": {
      "text/plain": [
       "'Y_train'"
      ]
     },
     "metadata": {},
     "output_type": "display_data"
    },
    {
     "data": {
      "text/plain": [
       "18960    False\n",
       "11353    False\n",
       "7449     False\n",
       "14308     True\n",
       "11889    False\n",
       "Name: is_spoiler, dtype: bool"
      ]
     },
     "metadata": {},
     "output_type": "display_data"
    }
   ],
   "source": [
    " X_train, X_test, y_train, y_test = get_train_test(movie_reviews_df, 'review_text', 'is_spoiler')"
   ]
  },
  {
   "cell_type": "markdown",
   "id": "c704aab3",
   "metadata": {},
   "source": [
    "# Vectorization\n",
    "The Vectorization is a technique used to convert textual data to numerical format.\n",
    "\n",
    "Using Vectorization, a matrix is created where each column represents a feature and each row represents an individual review"
   ]
  },
  {
   "cell_type": "code",
   "execution_count": 180,
   "id": "e10b25a5",
   "metadata": {},
   "outputs": [],
   "source": [
    "#Count Vectorizer\n",
    "from sklearn.feature_extraction.text import CountVectorizer"
   ]
  },
  {
   "cell_type": "code",
   "execution_count": 181,
   "id": "28cfa0de",
   "metadata": {},
   "outputs": [],
   "source": [
    "def get_ngram_cv(no_of_grams):\n",
    "    return CountVectorizer(analyzer = 'word',ngram_range=(1,no_of_grams), stop_words='english')"
   ]
  },
  {
   "cell_type": "code",
   "execution_count": 182,
   "id": "1965ac2a",
   "metadata": {},
   "outputs": [],
   "source": [
    "cv = get_ngram_cv(2) #2 is pretty good"
   ]
  },
  {
   "cell_type": "code",
   "execution_count": 183,
   "id": "6b7d8d60",
   "metadata": {},
   "outputs": [],
   "source": [
    "X_train_cv = cv.fit_transform(X_train)\n",
    "X_test_cv = cv.transform(X_test)"
   ]
  },
  {
   "cell_type": "code",
   "execution_count": 184,
   "id": "33d64e6d",
   "metadata": {},
   "outputs": [
    {
     "data": {
      "text/plain": [
       "<15000x1020401 sparse matrix of type '<class 'numpy.int64'>'\n",
       "\twith 3161932 stored elements in Compressed Sparse Row format>"
      ]
     },
     "execution_count": 184,
     "metadata": {},
     "output_type": "execute_result"
    }
   ],
   "source": [
    "X_train_cv"
   ]
  },
  {
   "cell_type": "code",
   "execution_count": 185,
   "id": "330d32b6",
   "metadata": {},
   "outputs": [],
   "source": [
    "#with score\n",
    "from sklearn.naive_bayes import MultinomialNB\n",
    "from sklearn.metrics import f1_score\n",
    "clf = MultinomialNB()"
   ]
  },
  {
   "cell_type": "code",
   "execution_count": 186,
   "id": "efedfbe4",
   "metadata": {},
   "outputs": [
    {
     "data": {
      "text/plain": [
       "MultinomialNB()"
      ]
     },
     "execution_count": 186,
     "metadata": {},
     "output_type": "execute_result"
    }
   ],
   "source": [
    "clf.fit(X_train_cv, y_train)"
   ]
  },
  {
   "cell_type": "code",
   "execution_count": 187,
   "id": "5d455e2a",
   "metadata": {},
   "outputs": [],
   "source": [
    " y_pred = clf.predict(X_test_cv)"
   ]
  },
  {
   "cell_type": "code",
   "execution_count": 190,
   "id": "558fde63",
   "metadata": {},
   "outputs": [],
   "source": [
    "def get_score(y_test, y_pred):\n",
    "    score = f1_score(y_test, y_pred, average='micro')\n",
    "    return 'F-1 score : {}'.format(np.round(score,4))"
   ]
  },
  {
   "cell_type": "code",
   "execution_count": 191,
   "id": "93f6d0e5",
   "metadata": {},
   "outputs": [
    {
     "data": {
      "text/plain": [
       "'F-1 score : 0.4357'"
      ]
     },
     "execution_count": 191,
     "metadata": {},
     "output_type": "execute_result"
    }
   ],
   "source": [
    "get_score(y_test, y_pred)"
   ]
  },
  {
   "cell_type": "code",
   "execution_count": 192,
   "id": "ee609ed1",
   "metadata": {},
   "outputs": [],
   "source": [
    "from sklearn.feature_extraction.text import TfidfVectorizer\n"
   ]
  },
  {
   "cell_type": "code",
   "execution_count": 193,
   "id": "24925ce1",
   "metadata": {},
   "outputs": [],
   "source": [
    "def get_tfidf():\n",
    "    return TfidfVectorizer(max_df=0.75, min_df = 0.01, sublinear_tf = True,\n",
    "                             use_idf = True)"
   ]
  },
  {
   "cell_type": "code",
   "execution_count": 194,
   "id": "9cf598ac",
   "metadata": {},
   "outputs": [],
   "source": [
    "def get_vectors(my_tfidf, train_var, test_var):\n",
    "    tfidf_train = my_tfidf.fit_transform(train_var)\n",
    "    tfidf_test = my_tfidf.transform(test_var)\n",
    "    return tfidf_train, tfidf_test\n",
    "    "
   ]
  },
  {
   "cell_type": "code",
   "execution_count": 195,
   "id": "1e179b0a",
   "metadata": {},
   "outputs": [],
   "source": [
    "my_tfidf = get_tfidf()"
   ]
  },
  {
   "cell_type": "code",
   "execution_count": 196,
   "id": "a66d07fe",
   "metadata": {},
   "outputs": [],
   "source": [
    "tfidf_train, tfidf_test = get_vectors(my_tfidf, X_train, X_test)"
   ]
  },
  {
   "cell_type": "code",
   "execution_count": 197,
   "id": "88aadab2",
   "metadata": {},
   "outputs": [
    {
     "name": "stdout",
     "output_type": "stream",
     "text": [
      "(15000, 1763) (5000, 1763) (15000,) (5000,)\n"
     ]
    }
   ],
   "source": [
    "print( tfidf_train.shape, tfidf_test.shape, y_train.shape, y_test.shape)"
   ]
  },
  {
   "cell_type": "code",
   "execution_count": null,
   "id": "a798a5eb",
   "metadata": {},
   "outputs": [],
   "source": [
    "#SVM method"
   ]
  },
  {
   "cell_type": "code",
   "execution_count": 198,
   "id": "16c0a1c7",
   "metadata": {},
   "outputs": [],
   "source": [
    "from sklearn import svm\n",
    "from sklearn.metrics import classification_report"
   ]
  },
  {
   "cell_type": "code",
   "execution_count": 199,
   "id": "81655fdc",
   "metadata": {},
   "outputs": [],
   "source": [
    "classifier_linear = svm.SVC(kernel='linear')"
   ]
  },
  {
   "cell_type": "code",
   "execution_count": 147,
   "id": "3465c741",
   "metadata": {},
   "outputs": [],
   "source": [
    "prediction_linear = classifier_linear.predict(tfidf_test)"
   ]
  },
  {
   "cell_type": "code",
   "execution_count": 148,
   "id": "8492ecd7",
   "metadata": {},
   "outputs": [
    {
     "data": {
      "text/plain": [
       "array([False, False, False, ..., False, False, False])"
      ]
     },
     "execution_count": 148,
     "metadata": {},
     "output_type": "execute_result"
    }
   ],
   "source": [
    "prediction_linear"
   ]
  },
  {
   "cell_type": "code",
   "execution_count": 120,
   "id": "ad196d2c",
   "metadata": {},
   "outputs": [
    {
     "data": {
      "text/plain": [
       "{'False': {'precision': 0.7763908701854494,\n",
       "  'recall': 0.9537787513691128,\n",
       "  'f1-score': 0.8559913496510372,\n",
       "  'support': 4565},\n",
       " 'True': {'precision': 0.6713395638629284,\n",
       "  'recall': 0.255786350148368,\n",
       "  'f1-score': 0.37043403523850454,\n",
       "  'support': 1685},\n",
       " 'accuracy': 0.7656,\n",
       " 'macro avg': {'precision': 0.7238652170241888,\n",
       "  'recall': 0.6047825507587404,\n",
       "  'f1-score': 0.6132126924447708,\n",
       "  'support': 6250},\n",
       " 'weighted avg': {'precision': 0.7480690380008977,\n",
       "  'recall': 0.7656,\n",
       "  'f1-score': 0.7250850976854184,\n",
       "  'support': 6250}}"
      ]
     },
     "execution_count": 120,
     "metadata": {},
     "output_type": "execute_result"
    }
   ],
   "source": [
    "report = classification_report(y_test, prediction_linear, output_dict=True)\n",
    "report"
   ]
  },
  {
   "cell_type": "markdown",
   "id": "b8aff026",
   "metadata": {},
   "source": [
    "# Logistic Regression"
   ]
  },
  {
   "cell_type": "code",
   "execution_count": 149,
   "id": "e027d6e9",
   "metadata": {},
   "outputs": [],
   "source": [
    "from sklearn.linear_model import LogisticRegression\n",
    "from sklearn.metrics import accuracy_score"
   ]
  },
  {
   "cell_type": "code",
   "execution_count": 150,
   "id": "4c3812a8",
   "metadata": {},
   "outputs": [
    {
     "name": "stdout",
     "output_type": "stream",
     "text": [
      "74.32 %\n"
     ]
    }
   ],
   "source": [
    "model_1 = LogisticRegression(max_iter = 900, solver = 'lbfgs')\n",
    "model_1.fit(tfidf_train, y_train)\n",
    "pred_1 = model_1.predict(tfidf_test)\n",
    "cr1 = accuracy_score(y_test, pred_1)\n",
    "print(cr1*100,\"%\")"
   ]
  },
  {
   "cell_type": "markdown",
   "id": "8f32b2ac",
   "metadata": {},
   "source": [
    "# Passive Agressive Classifier\n",
    "Passive: If the prediction is correct, keep the model and do not make any changes. i.e., the data in the example is not enough to cause any changes in the model.\n",
    "\n",
    "Aggressive: If the prediction is incorrect, make changes to the model. i.e., some change to the model may correct it."
   ]
  },
  {
   "cell_type": "code",
   "execution_count": 124,
   "id": "0912f8ac",
   "metadata": {},
   "outputs": [
    {
     "data": {
      "text/plain": [
       "PassiveAggressiveClassifier(max_iter=50)"
      ]
     },
     "execution_count": 124,
     "metadata": {},
     "output_type": "execute_result"
    }
   ],
   "source": [
    "from sklearn.linear_model import PassiveAggressiveClassifier\n",
    "\n",
    "model = PassiveAggressiveClassifier(max_iter=50)\n",
    "model.fit(tfidf_train, y_train)"
   ]
  },
  {
   "cell_type": "code",
   "execution_count": 125,
   "id": "8e6ad00c",
   "metadata": {},
   "outputs": [
    {
     "name": "stdout",
     "output_type": "stream",
     "text": [
      "The Accuracy of the prediction is :  75.104\n"
     ]
    }
   ],
   "source": [
    "y_pred = model.predict(tfidf_test)\n",
    "acc_score = accuracy_score(y_test, y_pred)\n",
    "print(\"The Accuracy of the prediction is : \", acc_score*100)"
   ]
  },
  {
   "cell_type": "code",
   "execution_count": null,
   "id": "4e0f656e",
   "metadata": {},
   "outputs": [],
   "source": []
  }
 ],
 "metadata": {
  "kernelspec": {
   "display_name": "Python 3 (ipykernel)",
   "language": "python",
   "name": "python3"
  },
  "language_info": {
   "codemirror_mode": {
    "name": "ipython",
    "version": 3
   },
   "file_extension": ".py",
   "mimetype": "text/x-python",
   "name": "python",
   "nbconvert_exporter": "python",
   "pygments_lexer": "ipython3",
   "version": "3.7.9"
  }
 },
 "nbformat": 4,
 "nbformat_minor": 5
}
